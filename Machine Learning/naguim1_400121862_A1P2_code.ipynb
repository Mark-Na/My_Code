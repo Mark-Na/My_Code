{
 "cells": [
  {
   "cell_type": "code",
   "execution_count": 1,
   "metadata": {},
   "outputs": [],
   "source": [
    "import numpy as np\n",
    "import matplotlib.pyplot as plt\n",
    "import pandas as pd\n",
    "from sklearn.datasets import load_boston\n",
    "from sklearn.model_selection import KFold"
   ]
  },
  {
   "cell_type": "code",
   "execution_count": 2,
   "metadata": {
    "scrolled": false
   },
   "outputs": [
    {
     "name": "stdout",
     "output_type": "stream",
     "text": [
      ".. _boston_dataset:\n",
      "\n",
      "Boston house prices dataset\n",
      "---------------------------\n",
      "\n",
      "**Data Set Characteristics:**  \n",
      "\n",
      "    :Number of Instances: 506 \n",
      "\n",
      "    :Number of Attributes: 13 numeric/categorical predictive. Median Value (attribute 14) is usually the target.\n",
      "\n",
      "    :Attribute Information (in order):\n",
      "        - CRIM     per capita crime rate by town\n",
      "        - ZN       proportion of residential land zoned for lots over 25,000 sq.ft.\n",
      "        - INDUS    proportion of non-retail business acres per town\n",
      "        - CHAS     Charles River dummy variable (= 1 if tract bounds river; 0 otherwise)\n",
      "        - NOX      nitric oxides concentration (parts per 10 million)\n",
      "        - RM       average number of rooms per dwelling\n",
      "        - AGE      proportion of owner-occupied units built prior to 1940\n",
      "        - DIS      weighted distances to five Boston employment centres\n",
      "        - RAD      index of accessibility to radial highways\n",
      "        - TAX      full-value property-tax rate per $10,000\n",
      "        - PTRATIO  pupil-teacher ratio by town\n",
      "        - B        1000(Bk - 0.63)^2 where Bk is the proportion of blacks by town\n",
      "        - LSTAT    % lower status of the population\n",
      "        - MEDV     Median value of owner-occupied homes in $1000's\n",
      "\n",
      "    :Missing Attribute Values: None\n",
      "\n",
      "    :Creator: Harrison, D. and Rubinfeld, D.L.\n",
      "\n",
      "This is a copy of UCI ML housing dataset.\n",
      "https://archive.ics.uci.edu/ml/machine-learning-databases/housing/\n",
      "\n",
      "\n",
      "This dataset was taken from the StatLib library which is maintained at Carnegie Mellon University.\n",
      "\n",
      "The Boston house-price data of Harrison, D. and Rubinfeld, D.L. 'Hedonic\n",
      "prices and the demand for clean air', J. Environ. Economics & Management,\n",
      "vol.5, 81-102, 1978.   Used in Belsley, Kuh & Welsch, 'Regression diagnostics\n",
      "...', Wiley, 1980.   N.B. Various transformations are used in the table on\n",
      "pages 244-261 of the latter.\n",
      "\n",
      "The Boston house-price data has been used in many machine learning papers that address regression\n",
      "problems.   \n",
      "     \n",
      ".. topic:: References\n",
      "\n",
      "   - Belsley, Kuh & Welsch, 'Regression diagnostics: Identifying Influential Data and Sources of Collinearity', Wiley, 1980. 244-261.\n",
      "   - Quinlan,R. (1993). Combining Instance-Based and Model-Based Learning. In Proceedings on the Tenth International Conference of Machine Learning, 236-243, University of Massachusetts, Amherst. Morgan Kaufmann.\n",
      "\n"
     ]
    }
   ],
   "source": [
    "boston = load_boston()\n",
    "print(boston.DESCR)\n"
   ]
  },
  {
   "cell_type": "code",
   "execution_count": 108,
   "metadata": {},
   "outputs": [],
   "source": [
    "X, t = load_boston(return_X_y=True)\n",
    "X = np.array(X)\n",
    "t = np.array(t)\n",
    "from sklearn.model_selection import train_test_split\n",
    "X_train,X_test,t_train,t_test=train_test_split(X,t,test_size=1/5,random_state=1862)\n",
    "lenx = len(X_train)\n",
    "lenxt = len(X_test)\n",
    "new_col = np.ones(lenx)\n",
    "new_col1 = np.ones(lenxt)\n",
    "X_train = np.insert(X_train,0,new_col,axis=1)\n",
    "X_test = np.insert(X_test,0,new_col1,axis=1)"
   ]
  },
  {
   "cell_type": "code",
   "execution_count": 109,
   "metadata": {},
   "outputs": [],
   "source": [
    "def test_error_S(num_of_features,array_of_features):#returns the score of the feature aka the cross validation error\n",
    "    X_trainS= np.ones((lenx,num_of_features+1))\n",
    "    X_testS = np.ones((lenxt,num_of_features+1))\n",
    "    \n",
    "    for i in range(lenx):#replace the 1s with the actual predictor variable X values\n",
    "        for j in range(len(array_of_features)):\n",
    "            X_trainS[i,j+1] = X_train[i,array_of_features[j]]\n",
    "            \n",
    "    for k in range(lenxt):#replace the 1s with the actual predictor variable X values\n",
    "        for l in range(len(array_of_features)):      \n",
    "            X_testS[k,l+1] = X_test[k,array_of_features[l]]\n",
    "\n",
    "    test_error = 0\n",
    "    w = np.matmul(np.linalg.inv((np.matmul(np.transpose(X_trainS),X_trainS))),(np.matmul(np.transpose(X_trainS),t_train)))#finds the w parameter vector\n",
    "    y_train= (np.matmul(np.transpose(w),np.transpose(X_trainS)))#equation to solve for the y training predictor\n",
    "    train_error = (1/((N+1))) * np.matmul(np.transpose(y_train-t_train),(y_train-t_train))#solves for the training error\n",
    "    y_test = np.matmul(w,np.transpose(X_testS))#finds the prediction y for the test data\n",
    "    test_error = test_error + ((1/(num_of_features))*(np.dot((y_test-t_test)**2,np.transpose((y_test-t_test)**2))))#solves for the test error       \n",
    "       \n",
    "    \n",
    "    print(test_error)#prints the average test error\n",
    "    return test_error"
   ]
  },
  {
   "cell_type": "code",
   "execution_count": 110,
   "metadata": {
    "scrolled": false
   },
   "outputs": [
    {
     "name": "stdout",
     "output_type": "stream",
     "text": [
      "5\n",
      "KFold(n_splits=5, random_state=1862, shuffle=False)\n"
     ]
    }
   ],
   "source": [
    "# split data into training and test sets\n",
    "from sklearn.model_selection import train_test_split\n",
    "kf = KFold(n_splits=5)\n",
    "print(kf.get_n_splits(X))\n",
    "print(KFold(n_splits=5, random_state=1862, shuffle=False))\n",
    "i=1\n",
    "for train_index, test_index in kf.split(X):#split the data into 5 different folds\n",
    "    if (i==1):\n",
    "        X_train1, X_test1 = X[train_index], X[test_index]\n",
    "        t_train1, t_test1 = t[train_index], t[test_index]\n",
    "        i= i + 1\n",
    "    elif (i==2):\n",
    "        X_train2, X_test2 = X[train_index], X[test_index]\n",
    "        t_train2, t_test2 = t[train_index], t[test_index]\n",
    "        i= i + 1\n",
    "    elif (i==3):\n",
    "        X_train3, X_test3 = X[train_index], X[test_index]\n",
    "        t_train3, t_test3 = t[train_index], t[test_index]\n",
    "        i= i + 1\n",
    "    elif (i==4):\n",
    "        X_train4, X_test4 = X[train_index], X[test_index]\n",
    "        t_train4, t_test4 = t[train_index], t[test_index]\n",
    "        i= i + 1\n",
    "    elif (i==5):\n",
    "        X_train5, X_test5 = X[train_index], X[test_index]\n",
    "        t_train5, t_test5 = t[train_index], t[test_index]\n",
    "    else: \n",
    "        break;\n",
    "        \n",
    "    \n",
    "M = len(X_test1) #number rows in test set\n",
    "N = len(X_train1) #number rows in train set  \n",
    "O = len(t_train2)\n",
    "P = len(X_test2)\n",
    "\n",
    "# add dummy in training set\n",
    "new_col=np.ones(N)\n",
    "new_col2 = np.ones(O)\n",
    "new_col3 = np.ones(M)\n",
    "new_col4 = np.ones(P)\n",
    "X1_train = np.insert(X_train1, 0, new_col, axis=1)\n",
    "X2_train = np.insert(X_train2, 0, new_col2, axis=1)\n",
    "X3_train = np.insert(X_train3, 0, new_col2, axis=1)\n",
    "X4_train = np.insert(X_train4, 0, new_col2, axis=1)\n",
    "X5_train = np.insert(X_train5, 0, new_col2, axis=1)\n",
    "# add dummy in test set\n",
    "new_col=np.ones(M)\n",
    "X1_test = np.insert(X_test1, 0, new_col3, axis=1)\n",
    "X2_test = np.insert(X_test2, 0, new_col4, axis=1)\n",
    "X3_test = np.insert(X_test3, 0, new_col4, axis=1)\n",
    "X4_test = np.insert(X_test4, 0, new_col4, axis=1)\n",
    "X5_test = np.insert(X_test5, 0, new_col4, axis=1)"
   ]
  },
  {
   "cell_type": "code",
   "execution_count": 111,
   "metadata": {},
   "outputs": [],
   "source": [
    "def find_best_feature(num_of_features,array_of_features):#returns the score of the feature aka the cross validation error\n",
    "    X1_train_feature = np.ones((N,num_of_features+1))\n",
    "    X2_train_feature = np.ones((O,num_of_features+1))\n",
    "    X3_train_feature = np.ones((O,num_of_features+1))\n",
    "    X4_train_feature = np.ones((O,num_of_features+1))\n",
    "    X5_train_feature = np.ones((O,num_of_features+1))\n",
    "    \n",
    "    for i in range(N):#replace the 1s with the actual predictor variable X values\n",
    "        for j in range(len(array_of_features)):\n",
    "            X1_train_feature[i,j+1] = X1_train[i,array_of_features[j]]\n",
    "\n",
    "    for i in range(N+1):\n",
    "        for j in range(len(array_of_features)):\n",
    "            X2_train_feature[i,j+1] = X2_train[i,array_of_features[j]]\n",
    "            X3_train_feature[i,j+1] = X3_train[i,array_of_features[j]]\n",
    "            X4_train_feature[i,j+1] = X4_train[i,array_of_features[j]]\n",
    "            X5_train_feature[i,j+1] = X5_train[i,array_of_features[j]]\n",
    "    for j in range (5):#find the test error in each fold\n",
    "        test_error = 0\n",
    "        if (j==0):\n",
    "            feature = np.concatenate((X2_train_feature,X3_train_feature,X4_train_feature,X5_train_feature),axis=0)#took the first fold out and combined the other 4 together\n",
    "            target = np.concatenate((t_train2,t_train3,t_train4,t_train5),axis=0)#did the same thing as above except with the targets\n",
    "            test = X1_train_feature\n",
    "            test_target = t_train1\n",
    "            w = np.matmul(np.linalg.inv((np.matmul(np.transpose(feature),feature))),(np.matmul(np.transpose(feature),target)))#finds the w parameter vector\n",
    "            y_train= (np.matmul(np.transpose(w),np.transpose(feature)))#equation to solve for the y training predictor\n",
    "            train_error = (1/((N+1))) * np.matmul(np.transpose(y_train-target),(y_train-target))#solves for the training error\n",
    "            y_test = np.matmul(w,np.transpose(test))#finds the prediction y for the test data\n",
    "            test_error = test_error + ((1/(N+1))*(np.dot((y_test-test_target)**2,np.transpose((y_test-test_target)**2))))#solves for the test error\n",
    "        \n",
    "        elif(j==1):\n",
    "            feature = np.concatenate((X1_train_feature,X3_train_feature,X4_train_feature,X5_train_feature),axis=0)\n",
    "            target = np.concatenate((t_train1,t_train3,t_train4,t_train5),axis=0)\n",
    "            test = X2_train_feature\n",
    "            test_target = t_train2\n",
    "            w = np.matmul(np.linalg.inv((np.matmul(np.transpose(feature),feature))),(np.matmul(np.transpose(feature),target)))\n",
    "            y_train= (np.matmul(np.transpose(w),np.transpose(feature)))\n",
    "            train_error = (1/((O+1))) * np.matmul(np.transpose(y_train-target),(y_train-target))\n",
    "            y_test = np.matmul(w,np.transpose(test))\n",
    "            test_error = test_error + ((1/((O+1))*(np.dot((y_test-test_target)**2,np.transpose((y_test-test_target)**2)))))\n",
    "        \n",
    "        elif(j==2):\n",
    "            feature = np.concatenate((X1_train_feature,X2_train_feature,X4_train_feature,X5_train_feature),axis=0)\n",
    "            target = np.concatenate((t_train1,t_train2,t_train4,t_train5),axis=0)\n",
    "            test = X3_train_feature\n",
    "            test_target = t_train3\n",
    "            w = np.matmul(np.linalg.inv((np.matmul(np.transpose(feature),feature))),(np.matmul(np.transpose(feature),target)))\n",
    "            y_train= (np.matmul(np.transpose(w),np.transpose(feature)))\n",
    "            train_error = (1/((O+1))) * np.matmul(np.transpose(y_train-target),(y_train-target))\n",
    "            y_test = np.matmul(w,np.transpose(test))\n",
    "            test_error = test_error + ((1/((O+1))*(np.dot((y_test-test_target)**2,np.transpose((y_test-test_target)**2)))))\n",
    "            \n",
    "        \n",
    "        elif(j==3):\n",
    "            feature = np.concatenate((X1_train_feature,X2_train_feature,X3_train_feature,X5_train_feature),axis=0)\n",
    "            target = np.concatenate((t_train1,t_train2,t_train3,t_train5),axis=0)\n",
    "            test = X4_train_feature\n",
    "            test_target = t_train4\n",
    "            w = np.matmul(np.linalg.inv((np.matmul(np.transpose(feature),feature))),(np.matmul(np.transpose(feature),target)))\n",
    "            y_train= (np.matmul(np.transpose(w),np.transpose(feature)))\n",
    "            train_error = (1/((O+1))) * np.matmul(np.transpose(y_train-target),(y_train-target))\n",
    "            y_test = np.matmul(w,np.transpose(test))\n",
    "            test_error = test_error + ((1/((O+1))*(np.dot((y_test-test_target)**2,np.transpose((y_test-test_target)**2)))))\n",
    "            \n",
    "        \n",
    "        elif(j==4):\n",
    "            feature = np.concatenate((X1_train_feature,X2_train_feature,X3_train_feature,X4_train_feature),axis=0)\n",
    "            target = np.concatenate((t_train1,t_train2,t_train3,t_train4),axis=0)\n",
    "            test = X5_train_feature\n",
    "            test_target = t_train5\n",
    "            w = np.matmul(np.linalg.inv((np.matmul(np.transpose(feature),feature))),(np.matmul(np.transpose(feature),target)))\n",
    "            y_train= (np.matmul(np.transpose(w),np.transpose(feature)))\n",
    "            train_error = (1/((O+1))) * np.matmul(np.transpose(y_train-target),(y_train-target))\n",
    "            y_test = np.matmul(w,np.transpose(test))\n",
    "            test_error = test_error + ((1/((O+1))*(np.dot((y_test-test_target)**2,np.transpose((y_test-test_target)**2)))))\n",
    "    \n",
    "    test_error = test_error/5#takes the average of all 5 test errors found\n",
    "    print(test_error)#prints the average test error\n",
    "    return test_error"
   ]
  },
  {
   "cell_type": "code",
   "execution_count": 113,
   "metadata": {},
   "outputs": [
    {
     "name": "stdout",
     "output_type": "stream",
     "text": [
      "6743.036677836161\n",
      "7267.452320353026\n",
      "7288.145862239748\n",
      "7042.62936811086\n",
      "7355.1925942376665\n",
      "3476.484450590005\n",
      "8355.805853734073\n",
      "8700.880399329453\n",
      "7455.914244882479\n",
      "7004.922393130875\n",
      "5103.647676314681\n",
      "6799.680306957748\n",
      "1909.7401486568208\n"
     ]
    },
    {
     "data": {
      "text/plain": [
       "1909.7401486568208"
      ]
     },
     "execution_count": 113,
     "metadata": {},
     "output_type": "execute_result"
    }
   ],
   "source": [
    "find_best_feature(1,[1])\n",
    "find_best_feature(1,[2])\n",
    "find_best_feature(1,[3])\n",
    "find_best_feature(1,[4])\n",
    "find_best_feature(1,[5])\n",
    "find_best_feature(1,[6])\n",
    "find_best_feature(1,[7])\n",
    "find_best_feature(1,[8])\n",
    "find_best_feature(1,[9])\n",
    "find_best_feature(1,[10])\n",
    "find_best_feature(1,[11])\n",
    "find_best_feature(1,[12])\n",
    "find_best_feature(1,[13])"
   ]
  },
  {
   "cell_type": "code",
   "execution_count": 7,
   "metadata": {},
   "outputs": [
    {
     "name": "stdout",
     "output_type": "stream",
     "text": [
      "1967.8270475494737\n",
      "1952.7629981582081\n",
      "2011.6130309655662\n",
      "1733.0550318030346\n",
      "1921.9287596167087\n",
      "1459.67058699981\n",
      "1747.4518015993096\n",
      "1569.4212496547736\n",
      "1969.151740941274\n",
      "2041.6489192560214\n",
      "1672.6575011934042\n",
      "1915.836901586464\n"
     ]
    },
    {
     "data": {
      "text/plain": [
       "1915.836901586464"
      ]
     },
     "execution_count": 7,
     "metadata": {},
     "output_type": "execute_result"
    }
   ],
   "source": [
    "find_best_feature(2,[13,1])\n",
    "find_best_feature(2,[13,2])\n",
    "find_best_feature(2,[13,3])\n",
    "find_best_feature(2,[13,4])\n",
    "find_best_feature(2,[13,5])\n",
    "find_best_feature(2,[13,6])\n",
    "find_best_feature(2,[13,7])\n",
    "find_best_feature(2,[13,8])\n",
    "find_best_feature(2,[13,9])\n",
    "find_best_feature(2,[13,10])\n",
    "find_best_feature(2,[13,11])\n",
    "find_best_feature(2,[13,12])"
   ]
  },
  {
   "cell_type": "code",
   "execution_count": 8,
   "metadata": {
    "scrolled": false
   },
   "outputs": [
    {
     "name": "stdout",
     "output_type": "stream",
     "text": [
      "1544.355877904243\n",
      "1492.0783571943925\n",
      "1578.0227705337825\n",
      "1322.5008957568946\n",
      "1534.9539535272047\n",
      "1430.960355375432\n",
      "1255.5113527557726\n",
      "1701.4292288780289\n",
      "1797.1457150137364\n",
      "1579.3830929316623\n",
      "1510.5508548434436\n"
     ]
    },
    {
     "data": {
      "text/plain": [
       "1510.5508548434436"
      ]
     },
     "execution_count": 8,
     "metadata": {},
     "output_type": "execute_result"
    }
   ],
   "source": [
    "find_best_feature(3,[13,6,1])\n",
    "find_best_feature(3,[13,6,2])\n",
    "find_best_feature(3,[13,6,3])\n",
    "find_best_feature(3,[13,6,4])\n",
    "find_best_feature(3,[13,6,5])\n",
    "find_best_feature(3,[13,6,7])\n",
    "find_best_feature(3,[13,6,8])\n",
    "find_best_feature(3,[13,6,9])\n",
    "find_best_feature(3,[13,6,10])\n",
    "find_best_feature(3,[13,6,11])\n",
    "find_best_feature(3,[13,6,12])"
   ]
  },
  {
   "cell_type": "code",
   "execution_count": 9,
   "metadata": {},
   "outputs": [
    {
     "name": "stdout",
     "output_type": "stream",
     "text": [
      "1271.278312116756\n",
      "1135.5348408780815\n",
      "1287.0941277993286\n",
      "1186.3856210601298\n",
      "1243.0940726137185\n",
      "1294.0294093746743\n",
      "1430.1058589402285\n",
      "1456.5288082352395\n",
      "1263.482520064405\n",
      "1248.823055052055\n"
     ]
    },
    {
     "data": {
      "text/plain": [
       "1248.823055052055"
      ]
     },
     "execution_count": 9,
     "metadata": {},
     "output_type": "execute_result"
    }
   ],
   "source": [
    "find_best_feature(4,[13,6,8,1])\n",
    "find_best_feature(4,[13,6,8,2])\n",
    "find_best_feature(4,[13,6,8,3])\n",
    "find_best_feature(4,[13,6,8,4])\n",
    "find_best_feature(4,[13,6,8,5])\n",
    "find_best_feature(4,[13,6,8,7])\n",
    "find_best_feature(4,[13,6,8,9])\n",
    "find_best_feature(4,[13,6,8,10])\n",
    "find_best_feature(4,[13,6,8,11])\n",
    "find_best_feature(4,[13,6,8,12])"
   ]
  },
  {
   "cell_type": "code",
   "execution_count": 10,
   "metadata": {},
   "outputs": [
    {
     "name": "stdout",
     "output_type": "stream",
     "text": [
      "1133.6530712673475\n",
      "1174.041456891318\n",
      "1069.1619104453175\n",
      "1120.01563235517\n",
      "1166.326804501798\n",
      "1290.8144175193906\n",
      "1319.8712459365238\n",
      "1196.9225042823896\n",
      "1122.5231961121729\n"
     ]
    },
    {
     "data": {
      "text/plain": [
       "1122.5231961121729"
      ]
     },
     "execution_count": 10,
     "metadata": {},
     "output_type": "execute_result"
    }
   ],
   "source": [
    "find_best_feature(5,[13,6,8,2,1])\n",
    "find_best_feature(5,[13,6,8,2,3])\n",
    "find_best_feature(5,[13,6,8,2,4])\n",
    "find_best_feature(5,[13,6,8,2,5])\n",
    "find_best_feature(5,[13,6,8,2,7])\n",
    "find_best_feature(5,[13,6,8,2,9])\n",
    "find_best_feature(5,[13,6,8,2,10])\n",
    "find_best_feature(5,[13,6,8,2,11])\n",
    "find_best_feature(5,[13,6,8,2,12])"
   ]
  },
  {
   "cell_type": "code",
   "execution_count": 11,
   "metadata": {},
   "outputs": [
    {
     "name": "stdout",
     "output_type": "stream",
     "text": [
      "1062.0426638448084\n",
      "1067.0090631811595\n",
      "1028.149764420523\n",
      "1100.4556640998196\n",
      "1179.3910728320448\n",
      "1188.5209764852157\n",
      "1101.0442601856619\n",
      "1054.4416670195596\n"
     ]
    },
    {
     "data": {
      "text/plain": [
       "1054.4416670195596"
      ]
     },
     "execution_count": 11,
     "metadata": {},
     "output_type": "execute_result"
    }
   ],
   "source": [
    "find_best_feature(6,[13,6,8,2,4,1])\n",
    "find_best_feature(6,[13,6,8,2,4,3])\n",
    "find_best_feature(6,[13,6,8,2,4,5])\n",
    "find_best_feature(6,[13,6,8,2,4,7])\n",
    "find_best_feature(6,[13,6,8,2,4,9])\n",
    "find_best_feature(6,[13,6,8,2,4,10])\n",
    "find_best_feature(6,[13,6,8,2,4,11])\n",
    "find_best_feature(6,[13,6,8,2,4,12])"
   ]
  },
  {
   "cell_type": "code",
   "execution_count": 12,
   "metadata": {},
   "outputs": [
    {
     "name": "stdout",
     "output_type": "stream",
     "text": [
      "1029.485494524871\n",
      "1042.171997707005\n",
      "1036.3259193868132\n",
      "1106.2719601791966\n",
      "1139.7284860394739\n",
      "1066.876015892513\n",
      "1024.6617520452123\n"
     ]
    },
    {
     "data": {
      "text/plain": [
       "1024.6617520452123"
      ]
     },
     "execution_count": 12,
     "metadata": {},
     "output_type": "execute_result"
    }
   ],
   "source": [
    "find_best_feature(7,[13,6,8,2,4,5,1])\n",
    "find_best_feature(7,[13,6,8,2,4,5,3])\n",
    "find_best_feature(7,[13,6,8,2,4,5,7])\n",
    "find_best_feature(7,[13,6,8,2,4,5,9])\n",
    "find_best_feature(7,[13,6,8,2,4,5,10])\n",
    "find_best_feature(7,[13,6,8,2,4,5,11])\n",
    "find_best_feature(7,[13,6,8,2,4,5,12])"
   ]
  },
  {
   "cell_type": "code",
   "execution_count": 13,
   "metadata": {},
   "outputs": [
    {
     "name": "stdout",
     "output_type": "stream",
     "text": [
      "1023.3623729643901\n",
      "1041.4320675529268\n",
      "1045.3177234955829\n",
      "1074.1412928535813\n",
      "1120.0570177658392\n",
      "1074.932280183333\n"
     ]
    },
    {
     "data": {
      "text/plain": [
       "1074.932280183333"
      ]
     },
     "execution_count": 13,
     "metadata": {},
     "output_type": "execute_result"
    }
   ],
   "source": [
    "find_best_feature(8,[13,6,8,2,4,5,12,1])\n",
    "find_best_feature(8,[13,6,8,2,4,5,12,3])\n",
    "find_best_feature(8,[13,6,8,2,4,5,12,7])\n",
    "find_best_feature(8,[13,6,8,2,4,5,12,9])\n",
    "find_best_feature(8,[13,6,8,2,4,5,12,10])\n",
    "find_best_feature(8,[13,6,8,2,4,5,12,11])"
   ]
  },
  {
   "cell_type": "code",
   "execution_count": 14,
   "metadata": {},
   "outputs": [
    {
     "name": "stdout",
     "output_type": "stream",
     "text": [
      "1045.2495704023645\n",
      "1046.3927105635166\n",
      "1035.5739516776134\n",
      "1105.1349432936568\n",
      "1083.1611168433526\n"
     ]
    },
    {
     "data": {
      "text/plain": [
       "1083.1611168433526"
      ]
     },
     "execution_count": 14,
     "metadata": {},
     "output_type": "execute_result"
    }
   ],
   "source": [
    "find_best_feature(9,[13,6,8,2,4,5,12,1,3])\n",
    "find_best_feature(9,[13,6,8,2,4,5,12,1,7])\n",
    "find_best_feature(9,[13,6,8,2,4,5,12,1,9])\n",
    "find_best_feature(9,[13,6,8,2,4,5,12,1,10])\n",
    "find_best_feature(9,[13,6,8,2,4,5,12,1,11])"
   ]
  },
  {
   "cell_type": "code",
   "execution_count": 15,
   "metadata": {},
   "outputs": [
    {
     "name": "stdout",
     "output_type": "stream",
     "text": [
      "1035.293525932465\n",
      "1061.5852258734706\n",
      "1021.1781268890452\n",
      "944.6578646079151\n"
     ]
    },
    {
     "data": {
      "text/plain": [
       "944.6578646079151"
      ]
     },
     "execution_count": 15,
     "metadata": {},
     "output_type": "execute_result"
    }
   ],
   "source": [
    "find_best_feature(10,[13,6,8,2,4,5,12,1,9,3])\n",
    "find_best_feature(10,[13,6,8,2,4,5,12,1,9,7])\n",
    "find_best_feature(10,[13,6,8,2,4,5,12,1,9,10])\n",
    "find_best_feature(10,[13,6,8,2,4,5,12,1,9,11])"
   ]
  },
  {
   "cell_type": "code",
   "execution_count": 16,
   "metadata": {},
   "outputs": [
    {
     "name": "stdout",
     "output_type": "stream",
     "text": [
      "947.5478819271823\n",
      "949.6251760958187\n",
      "944.5060022969143\n"
     ]
    },
    {
     "data": {
      "text/plain": [
       "944.5060022969143"
      ]
     },
     "execution_count": 16,
     "metadata": {},
     "output_type": "execute_result"
    }
   ],
   "source": [
    "find_best_feature(11,[13,6,8,2,4,5,12,1,9,11,3])\n",
    "find_best_feature(11,[13,6,8,2,4,5,12,1,9,11,7])\n",
    "find_best_feature(11,[13,6,8,2,4,5,12,1,9,11,10])"
   ]
  },
  {
   "cell_type": "code",
   "execution_count": 17,
   "metadata": {},
   "outputs": [
    {
     "name": "stdout",
     "output_type": "stream",
     "text": [
      "943.6702438406091\n",
      "946.2760581054087\n"
     ]
    },
    {
     "data": {
      "text/plain": [
       "946.2760581054087"
      ]
     },
     "execution_count": 17,
     "metadata": {},
     "output_type": "execute_result"
    }
   ],
   "source": [
    "find_best_feature(12,[13,6,8,2,4,5,12,1,9,11,10,3])\n",
    "find_best_feature(12,[13,6,8,2,4,5,12,1,9,11,10,7])"
   ]
  },
  {
   "cell_type": "code",
   "execution_count": 18,
   "metadata": {},
   "outputs": [
    {
     "name": "stdout",
     "output_type": "stream",
     "text": [
      "945.5013862506094\n"
     ]
    },
    {
     "data": {
      "text/plain": [
       "945.5013862506094"
      ]
     },
     "execution_count": 18,
     "metadata": {},
     "output_type": "execute_result"
    }
   ],
   "source": [
    "find_best_feature(13,[13,6,8,2,4,5,12,1,9,11,10,3,7])"
   ]
  },
  {
   "cell_type": "code",
   "execution_count": 124,
   "metadata": {},
   "outputs": [
    {
     "name": "stdout",
     "output_type": "stream",
     "text": [
      "1909.7401486568208\n",
      "1459.67058699981\n",
      "1255.5113527557726\n",
      "1135.5348408780815\n",
      "1069.1619104453175\n",
      "1028.149764420523\n",
      "1024.6617520452123\n",
      "1023.3623729643901\n",
      "1035.5739516776134\n",
      "944.6578646079151\n",
      "944.5060022969143\n",
      "943.6702438406091\n",
      "945.5013862506094\n",
      "834478.3792145918\n",
      "681559.3371718496\n",
      "398503.6337861632\n",
      "265470.66000395885\n",
      "197198.78698816965\n",
      "178640.45893979422\n",
      "168391.57417992188\n",
      "161562.57534931903\n",
      "170136.97893630163\n",
      "149309.72599956402\n",
      "136396.28248625764\n",
      "124720.42360682052\n",
      "128737.52228023445\n"
     ]
    },
    {
     "data": {
      "image/png": "[encoded data removed]",
      "text/plain": [
       "<Figure size 432x288 with 1 Axes>"
      ]
     },
     "metadata": {
      "needs_background": "light"
     },
     "output_type": "display_data"
    }
   ],
   "source": [
    "#Best Cross Validation Errors of Subset S\n",
    "a=find_best_feature(1,[13])\n",
    "b=find_best_feature(2,[13,6])\n",
    "c=find_best_feature(3,[13,6,8])\n",
    "d=find_best_feature(4,[13,6,8,2])\n",
    "e=find_best_feature(5,[13,6,8,2,4])\n",
    "f=find_best_feature(6,[13,6,8,2,4,5])\n",
    "g=find_best_feature(7,[13,6,8,2,4,5,12])\n",
    "h=find_best_feature(8,[13,6,8,2,4,5,12,1])\n",
    "i=find_best_feature(9,[13,6,8,2,4,5,12,1,9])\n",
    "j=find_best_feature(10,[13,6,8,2,4,5,12,1,9,11])\n",
    "k=find_best_feature(11,[13,6,8,2,4,5,12,1,9,11,10])\n",
    "l=find_best_feature(12,[13,6,8,2,4,5,12,1,9,11,10,3])\n",
    "m=find_best_feature(13,[13,6,8,2,4,5,12,1,9,11,10,3,7])\n",
    "a1=test_error_S(1,[13])\n",
    "b1=test_error_S(2,[13,6])\n",
    "c1=test_error_S(3,[13,6,8])\n",
    "d1=test_error_S(4,[13,6,8,2])\n",
    "e1=test_error_S(5,[13,6,8,2,4])\n",
    "f1=test_error_S(6,[13,6,8,2,4,5])\n",
    "g1=test_error_S(7,[13,6,8,2,4,5,12])\n",
    "h1=test_error_S(8,[13,6,8,2,4,5,12,1])\n",
    "i1=test_error_S(9,[13,6,8,2,4,5,12,1,9])\n",
    "j1=test_error_S(10,[13,6,8,2,4,5,12,1,9,11])\n",
    "k1=test_error_S(11,[13,6,8,2,4,5,12,1,9,11,10])\n",
    "l1=test_error_S(12,[13,6,8,2,4,5,12,1,9,11,10,3])\n",
    "m1=test_error_S(13,[13,6,8,2,4,5,12,1,9,11,10,3,7])\n",
    "x = []\n",
    "y=[a,b,c,d,e,f,g,h,i,j,k,l,m]\n",
    "y1=[a1,b1,c1,d1,e1,f1,g1,h1,i1,j1,k1,l1,m1]\n",
    "for i in range(13):\n",
    "    x.append(i)\n",
    "plt.scatter(x,y)\n",
    "plt.scatter(x,y1)\n",
    "plt.show()"
   ]
  },
  {
   "cell_type": "code",
   "execution_count": 20,
   "metadata": {},
   "outputs": [],
   "source": [
    "def find_best_feature_squared(num_of_features,array_of_features):\n",
    "    X1_train_feature = np.ones((N,num_of_features+1))\n",
    "    X2_train_feature = np.ones((O,num_of_features+1))\n",
    "    X3_train_feature = np.ones((O,num_of_features+1))\n",
    "    X4_train_feature = np.ones((O,num_of_features+1))\n",
    "    X5_train_feature = np.ones((O,num_of_features+1))\n",
    "    \n",
    "    for i in range(N):\n",
    "        for j in range(len(array_of_features)):#replaces the 1s with predictor variable X squared values\n",
    "            X1_train_feature[i,j+1] = (X1_train[i,array_of_features[j]])**2\n",
    "\n",
    "    for i in range(N+1):\n",
    "        for j in range(len(array_of_features)):\n",
    "            X2_train_feature[i,j+1] = (X2_train[i,array_of_features[j]])**2\n",
    "            X3_train_feature[i,j+1] = (X3_train[i,array_of_features[j]])**2\n",
    "            X4_train_feature[i,j+1] = (X4_train[i,array_of_features[j]])**2\n",
    "            X5_train_feature[i,j+1] = (X5_train[i,array_of_features[j]])**2\n",
    "    for j in range (5):\n",
    "        test_error = 0\n",
    "        if (j==0):\n",
    "            feature = np.concatenate((X2_train_feature,X3_train_feature,X4_train_feature,X5_train_feature),axis=0)\n",
    "            target = np.concatenate((t_train2,t_train3,t_train4,t_train5),axis=0)\n",
    "            test = X1_train_feature\n",
    "            test_target = t_train1\n",
    "            w = np.matmul(np.linalg.inv((np.matmul(np.transpose(feature),feature))),(np.matmul(np.transpose(feature),target)))\n",
    "            y_train= (np.matmul(np.transpose(w),np.transpose(feature)))\n",
    "            train_error = (1/((N+1))) * np.matmul(np.transpose(y_train-target),(y_train-target))\n",
    "            y_test = np.matmul(w,np.transpose(test))\n",
    "            test_error = test_error + ((1/(N+1))*(np.dot((y_test-test_target)**2,np.transpose((y_test-test_target)**2))))\n",
    "        \n",
    "        elif(j==1):\n",
    "            feature = np.concatenate((X1_train_feature,X3_train_feature,X4_train_feature,X5_train_feature),axis=0)\n",
    "            target = np.concatenate((t_train1,t_train3,t_train4,t_train5),axis=0)\n",
    "            test = X2_train_feature\n",
    "            test_target = t_train2\n",
    "            w = np.matmul(np.linalg.inv((np.matmul(np.transpose(feature),feature))),(np.matmul(np.transpose(feature),target)))\n",
    "            y_train= (np.matmul(np.transpose(w),np.transpose(feature)))\n",
    "            train_error = (1/((O+1))) * np.matmul(np.transpose(y_train-target),(y_train-target))\n",
    "            y_test = np.matmul(w,np.transpose(test))\n",
    "            test_error = test_error + ((1/((O+1))*(np.dot((y_test-test_target)**2,np.transpose((y_test-test_target)**2)))))\n",
    "        \n",
    "        elif(j==2):\n",
    "            feature = np.concatenate((X1_train_feature,X2_train_feature,X4_train_feature,X5_train_feature),axis=0)\n",
    "            target = np.concatenate((t_train1,t_train2,t_train4,t_train5),axis=0)\n",
    "            test = X3_train_feature\n",
    "            test_target = t_train3\n",
    "            w = np.matmul(np.linalg.inv((np.matmul(np.transpose(feature),feature))),(np.matmul(np.transpose(feature),target)))\n",
    "            y_train= (np.matmul(np.transpose(w),np.transpose(feature)))\n",
    "            train_error = (1/((O+1))) * np.matmul(np.transpose(y_train-target),(y_train-target))\n",
    "            y_test = np.matmul(w,np.transpose(test))\n",
    "            test_error = test_error + ((1/((O+1))*(np.dot((y_test-test_target)**2,np.transpose((y_test-test_target)**2)))))\n",
    "            \n",
    "        \n",
    "        elif(j==3):\n",
    "            feature = np.concatenate((X1_train_feature,X2_train_feature,X3_train_feature,X5_train_feature),axis=0)\n",
    "            target = np.concatenate((t_train1,t_train2,t_train3,t_train5),axis=0)\n",
    "            test = X4_train_feature\n",
    "            test_target = t_train4\n",
    "            w = np.matmul(np.linalg.inv((np.matmul(np.transpose(feature),feature))),(np.matmul(np.transpose(feature),target)))\n",
    "            y_train= (np.matmul(np.transpose(w),np.transpose(feature)))\n",
    "            train_error = (1/((O+1))) * np.matmul(np.transpose(y_train-target),(y_train-target))\n",
    "            y_test = np.matmul(w,np.transpose(test))\n",
    "            test_error = test_error + ((1/((O+1))*(np.dot((y_test-test_target)**2,np.transpose((y_test-test_target)**2)))))\n",
    "            \n",
    "        \n",
    "        elif(j==4):\n",
    "            feature = np.concatenate((X1_train_feature,X2_train_feature,X3_train_feature,X4_train_feature),axis=0)\n",
    "            target = np.concatenate((t_train1,t_train2,t_train3,t_train4),axis=0)\n",
    "            test = X5_train_feature\n",
    "            test_target = t_train5\n",
    "            w = np.matmul(np.linalg.inv((np.matmul(np.transpose(feature),feature))),(np.matmul(np.transpose(feature),target)))\n",
    "            y_train= (np.matmul(np.transpose(w),np.transpose(feature)))\n",
    "            train_error = (1/((O+1))) * np.matmul(np.transpose(y_train-target),(y_train-target))\n",
    "            y_test = np.matmul(w,np.transpose(test))\n",
    "            test_error = test_error + ((1/((O+1))*(np.dot((y_test-test_target)**2,np.transpose((y_test-test_target)**2)))))\n",
    "    \n",
    "    test_error = test_error/5\n",
    "    print(test_error)\n",
    "    return test_error"
   ]
  },
  {
   "cell_type": "code",
   "execution_count": 21,
   "metadata": {},
   "outputs": [],
   "source": [
    "def find_best_feature_cuberoot(num_of_features,array_of_features):\n",
    "    X1_train_feature = np.ones((N,num_of_features+1))\n",
    "    X2_train_feature = np.ones((O,num_of_features+1))\n",
    "    X3_train_feature = np.ones((O,num_of_features+1))\n",
    "    X4_train_feature = np.ones((O,num_of_features+1))\n",
    "    X5_train_feature = np.ones((O,num_of_features+1))\n",
    "    \n",
    "    for i in range(N):\n",
    "        for j in range(len(array_of_features)):#replaces the 1s with predictor variable X cube rooted values\n",
    "            X1_train_feature[i,j+1] = (X1_train[i,array_of_features[j]])**(1/3)\n",
    "\n",
    "    for i in range(N+1):\n",
    "        for j in range(len(array_of_features)):\n",
    "            X2_train_feature[i,j+1] = (X2_train[i,array_of_features[j]])**(1/3)\n",
    "            X3_train_feature[i,j+1] = (X3_train[i,array_of_features[j]])**(1/3)\n",
    "            X4_train_feature[i,j+1] = (X4_train[i,array_of_features[j]])**(1/3)\n",
    "            X5_train_feature[i,j+1] = (X5_train[i,array_of_features[j]])**(1/3)\n",
    "    for j in range (5):\n",
    "        test_error = 0\n",
    "        if (j==0):\n",
    "            feature = np.concatenate((X2_train_feature,X3_train_feature,X4_train_feature,X5_train_feature),axis=0)\n",
    "            target = np.concatenate((t_train2,t_train3,t_train4,t_train5),axis=0)\n",
    "            test = X1_train_feature\n",
    "            test_target = t_train1\n",
    "            w = np.matmul(np.linalg.inv((np.matmul(np.transpose(feature),feature))),(np.matmul(np.transpose(feature),target)))\n",
    "            y_train= (np.matmul(np.transpose(w),np.transpose(feature)))\n",
    "            train_error = (1/((N+1))) * np.matmul(np.transpose(y_train-target),(y_train-target))\n",
    "            y_test = np.matmul(w,np.transpose(test))\n",
    "            test_error = test_error + ((1/(N+1))*(np.dot((y_test-test_target)**2,np.transpose((y_test-test_target)**2))))\n",
    "        \n",
    "        elif(j==1):\n",
    "            feature = np.concatenate((X1_train_feature,X3_train_feature,X4_train_feature,X5_train_feature),axis=0)\n",
    "            target = np.concatenate((t_train1,t_train3,t_train4,t_train5),axis=0)\n",
    "            test = X2_train_feature\n",
    "            test_target = t_train2\n",
    "            w = np.matmul(np.linalg.inv((np.matmul(np.transpose(feature),feature))),(np.matmul(np.transpose(feature),target)))\n",
    "            y_train= (np.matmul(np.transpose(w),np.transpose(feature)))\n",
    "            train_error = (1/((O+1))) * np.matmul(np.transpose(y_train-target),(y_train-target))\n",
    "            y_test = np.matmul(w,np.transpose(test))\n",
    "            test_error = test_error + ((1/((O+1))*(np.dot((y_test-test_target)**2,np.transpose((y_test-test_target)**2)))))\n",
    "        \n",
    "        elif(j==2):\n",
    "            feature = np.concatenate((X1_train_feature,X2_train_feature,X4_train_feature,X5_train_feature),axis=0)\n",
    "            target = np.concatenate((t_train1,t_train2,t_train4,t_train5),axis=0)\n",
    "            test = X3_train_feature\n",
    "            test_target = t_train3\n",
    "            w = np.matmul(np.linalg.inv((np.matmul(np.transpose(feature),feature))),(np.matmul(np.transpose(feature),target)))\n",
    "            y_train= (np.matmul(np.transpose(w),np.transpose(feature)))\n",
    "            train_error = (1/((O+1))) * np.matmul(np.transpose(y_train-target),(y_train-target))\n",
    "            y_test = np.matmul(w,np.transpose(test))\n",
    "            test_error = test_error + ((1/((O+1))*(np.dot((y_test-test_target)**2,np.transpose((y_test-test_target)**2)))))\n",
    "            \n",
    "        \n",
    "        elif(j==3):\n",
    "            feature = np.concatenate((X1_train_feature,X2_train_feature,X3_train_feature,X5_train_feature),axis=0)\n",
    "            target = np.concatenate((t_train1,t_train2,t_train3,t_train5),axis=0)\n",
    "            test = X4_train_feature\n",
    "            test_target = t_train4\n",
    "            w = np.matmul(np.linalg.inv((np.matmul(np.transpose(feature),feature))),(np.matmul(np.transpose(feature),target)))\n",
    "            y_train= (np.matmul(np.transpose(w),np.transpose(feature)))\n",
    "            train_error = (1/((O+1))) * np.matmul(np.transpose(y_train-target),(y_train-target))\n",
    "            y_test = np.matmul(w,np.transpose(test))\n",
    "            test_error = test_error + ((1/((O+1))*(np.dot((y_test-test_target)**2,np.transpose((y_test-test_target)**2)))))\n",
    "            \n",
    "        \n",
    "        elif(j==4):\n",
    "            feature = np.concatenate((X1_train_feature,X2_train_feature,X3_train_feature,X4_train_feature),axis=0)\n",
    "            target = np.concatenate((t_train1,t_train2,t_train3,t_train4),axis=0)\n",
    "            test = X5_train_feature\n",
    "            test_target = t_train5\n",
    "            w = np.matmul(np.linalg.inv((np.matmul(np.transpose(feature),feature))),(np.matmul(np.transpose(feature),target)))\n",
    "            y_train= (np.matmul(np.transpose(w),np.transpose(feature)))\n",
    "            train_error = (1/((O+1))) * np.matmul(np.transpose(y_train-target),(y_train-target))\n",
    "            y_test = np.matmul(w,np.transpose(test))\n",
    "            test_error = test_error + ((1/((O+1))*(np.dot((y_test-test_target)**2,np.transpose((y_test-test_target)**2)))))\n",
    "    \n",
    "    test_error = test_error/5\n",
    "    print(test_error)\n",
    "    return test_error"
   ]
  },
  {
   "cell_type": "code",
   "execution_count": 22,
   "metadata": {},
   "outputs": [
    {
     "name": "stdout",
     "output_type": "stream",
     "text": [
      "7430.140787623556\n",
      "7322.723632331433\n",
      "7377.3625019558485\n",
      "7042.62936811086\n",
      "7145.261209747032\n",
      "3205.952798920297\n",
      "8456.567945314999\n",
      "8402.98866919911\n",
      "7376.748518454369\n",
      "7061.024850022035\n",
      "5077.8766962018435\n",
      "6851.811370292657\n",
      "3532.998637209997\n"
     ]
    },
    {
     "data": {
      "text/plain": [
       "3532.998637209997"
      ]
     },
     "execution_count": 22,
     "metadata": {},
     "output_type": "execute_result"
    }
   ],
   "source": [
    "find_best_feature_squared(1,[1])\n",
    "find_best_feature_squared(1,[2])\n",
    "find_best_feature_squared(1,[3])\n",
    "find_best_feature_squared(1,[4])\n",
    "find_best_feature_squared(1,[5])\n",
    "find_best_feature_squared(1,[6])\n",
    "find_best_feature_squared(1,[7])\n",
    "find_best_feature_squared(1,[8])\n",
    "find_best_feature_squared(1,[9])\n",
    "find_best_feature_squared(1,[10])\n",
    "find_best_feature_squared(1,[11])\n",
    "find_best_feature_squared(1,[12])\n",
    "find_best_feature_squared(1,[13])"
   ]
  },
  {
   "cell_type": "code",
   "execution_count": 23,
   "metadata": {},
   "outputs": [
    {
     "name": "stdout",
     "output_type": "stream",
     "text": [
      "3019.9070401565664\n",
      "3153.827989639941\n",
      "3423.338044854964\n",
      "3036.9006595289197\n",
      "3293.552834498424\n",
      "3737.1855531007436\n",
      "3361.5914479091452\n",
      "4131.395396685344\n",
      "4067.18937172175\n",
      "3251.4785804848016\n",
      "3179.876810601478\n",
      "2079.9804786846444\n"
     ]
    },
    {
     "data": {
      "text/plain": [
       "2079.9804786846444"
      ]
     },
     "execution_count": 23,
     "metadata": {},
     "output_type": "execute_result"
    }
   ],
   "source": [
    "find_best_feature_squared(2,[6,1])\n",
    "find_best_feature_squared(2,[6,2])\n",
    "find_best_feature_squared(2,[6,3])\n",
    "find_best_feature_squared(2,[6,4])\n",
    "find_best_feature_squared(2,[6,5])\n",
    "find_best_feature_squared(2,[6,7])\n",
    "find_best_feature_squared(2,[6,8])\n",
    "find_best_feature_squared(2,[6,9])\n",
    "find_best_feature_squared(2,[6,10])\n",
    "find_best_feature_squared(2,[6,11])\n",
    "find_best_feature_squared(2,[6,12])\n",
    "find_best_feature_squared(2,[6,13])"
   ]
  },
  {
   "cell_type": "code",
   "execution_count": 24,
   "metadata": {},
   "outputs": [
    {
     "name": "stdout",
     "output_type": "stream",
     "text": [
      "2040.392374443844\n",
      "2089.594629247588\n",
      "2281.7401567965126\n",
      "1931.8819429516884\n",
      "2274.3453504828767\n",
      "2411.390270948105\n",
      "2095.7042372432425\n",
      "2679.9636911572525\n",
      "2727.3879314362302\n",
      "2205.7998298539223\n",
      "2151.4472965902396\n"
     ]
    },
    {
     "data": {
      "text/plain": [
       "2151.4472965902396"
      ]
     },
     "execution_count": 24,
     "metadata": {},
     "output_type": "execute_result"
    }
   ],
   "source": [
    "find_best_feature_squared(3,[6,13,1])\n",
    "find_best_feature_squared(3,[6,13,2])\n",
    "find_best_feature_squared(3,[6,13,3])\n",
    "find_best_feature_squared(3,[6,13,4])\n",
    "find_best_feature_squared(3,[6,13,5])\n",
    "find_best_feature_squared(3,[6,13,7])\n",
    "find_best_feature_squared(3,[6,13,8])\n",
    "find_best_feature_squared(3,[6,13,9])\n",
    "find_best_feature_squared(3,[6,13,10])\n",
    "find_best_feature_squared(3,[6,13,11])\n",
    "find_best_feature_squared(3,[6,13,12])"
   ]
  },
  {
   "cell_type": "code",
   "execution_count": 25,
   "metadata": {},
   "outputs": [
    {
     "name": "stdout",
     "output_type": "stream",
     "text": [
      "1895.5899743129696\n",
      "1911.783801165584\n",
      "2066.64168686227\n",
      "2057.2148281221844\n",
      "2238.6086845077193\n",
      "1963.7981142339145\n",
      "2390.2524403439434\n",
      "2412.9348981155076\n",
      "1984.5254793652202\n",
      "1980.2325120446997\n"
     ]
    },
    {
     "data": {
      "text/plain": [
       "1980.2325120446997"
      ]
     },
     "execution_count": 25,
     "metadata": {},
     "output_type": "execute_result"
    }
   ],
   "source": [
    "find_best_feature_squared(4,[6,13,4,1])\n",
    "find_best_feature_squared(4,[6,13,4,2])\n",
    "find_best_feature_squared(4,[6,13,4,3])\n",
    "find_best_feature_squared(4,[6,13,4,5])\n",
    "find_best_feature_squared(4,[6,13,4,7])\n",
    "find_best_feature_squared(4,[6,13,4,8])\n",
    "find_best_feature_squared(4,[6,13,4,9])\n",
    "find_best_feature_squared(4,[6,13,4,10])\n",
    "find_best_feature_squared(4,[6,13,4,11])\n",
    "find_best_feature_squared(4,[6,13,4,12])"
   ]
  },
  {
   "cell_type": "code",
   "execution_count": 26,
   "metadata": {},
   "outputs": [
    {
     "name": "stdout",
     "output_type": "stream",
     "text": [
      "1882.313733731468\n",
      "2037.8903884935949\n",
      "2028.9100289359035\n",
      "2194.8934151875915\n",
      "1919.8372283637796\n",
      "2326.0747775978757\n",
      "2360.885641363625\n",
      "1969.530569344691\n",
      "1944.0448097572548\n"
     ]
    },
    {
     "data": {
      "text/plain": [
       "1944.0448097572548"
      ]
     },
     "execution_count": 26,
     "metadata": {},
     "output_type": "execute_result"
    }
   ],
   "source": [
    "find_best_feature_squared(5,[6,13,4,1,2])\n",
    "find_best_feature_squared(5,[6,13,4,1,3])\n",
    "find_best_feature_squared(5,[6,13,4,1,5])\n",
    "find_best_feature_squared(5,[6,13,4,1,7])\n",
    "find_best_feature_squared(5,[6,13,4,1,8])\n",
    "find_best_feature_squared(5,[6,13,4,1,9])\n",
    "find_best_feature_squared(5,[6,13,4,1,10])\n",
    "find_best_feature_squared(5,[6,13,4,1,11])\n",
    "find_best_feature_squared(5,[6,13,4,1,12])"
   ]
  },
  {
   "cell_type": "code",
   "execution_count": 27,
   "metadata": {},
   "outputs": [
    {
     "name": "stdout",
     "output_type": "stream",
     "text": [
      "2010.35142683324\n",
      "2007.4819709751205\n",
      "2109.2731356090603\n",
      "1774.835569669801\n",
      "2287.01408508626\n",
      "2333.891971266119\n",
      "1965.5765931051726\n",
      "1936.6607277282455\n"
     ]
    },
    {
     "data": {
      "text/plain": [
       "1936.6607277282455"
      ]
     },
     "execution_count": 27,
     "metadata": {},
     "output_type": "execute_result"
    }
   ],
   "source": [
    "find_best_feature_squared(6,[6,13,4,1,2,3])\n",
    "find_best_feature_squared(6,[6,13,4,1,2,5])\n",
    "find_best_feature_squared(6,[6,13,4,1,2,7])\n",
    "find_best_feature_squared(6,[6,13,4,1,2,8])\n",
    "find_best_feature_squared(6,[6,13,4,1,2,9])\n",
    "find_best_feature_squared(6,[6,13,4,1,2,10])\n",
    "find_best_feature_squared(6,[6,13,4,1,2,11])\n",
    "find_best_feature_squared(6,[6,13,4,1,2,12])"
   ]
  },
  {
   "cell_type": "code",
   "execution_count": 28,
   "metadata": {},
   "outputs": [
    {
     "name": "stdout",
     "output_type": "stream",
     "text": [
      "1843.724860415293\n",
      "1788.8339642425206\n",
      "2019.6936241982617\n",
      "2133.3539498488626\n",
      "2161.9358193029047\n",
      "1835.804068694577\n",
      "1783.9324322087596\n"
     ]
    },
    {
     "data": {
      "text/plain": [
       "1783.9324322087596"
      ]
     },
     "execution_count": 28,
     "metadata": {},
     "output_type": "execute_result"
    }
   ],
   "source": [
    "find_best_feature_squared(7,[6,13,4,1,2,8,3])\n",
    "find_best_feature_squared(7,[6,13,4,1,2,8,5])\n",
    "find_best_feature_squared(7,[6,13,4,1,2,8,7])\n",
    "find_best_feature_squared(7,[6,13,4,1,2,8,9])\n",
    "find_best_feature_squared(7,[6,13,4,1,2,8,10])\n",
    "find_best_feature_squared(7,[6,13,4,1,2,8,11])\n",
    "find_best_feature_squared(7,[6,13,4,1,2,8,12])"
   ]
  },
  {
   "cell_type": "code",
   "execution_count": 29,
   "metadata": {},
   "outputs": [
    {
     "name": "stdout",
     "output_type": "stream",
     "text": [
      "1845.8134082179513\n",
      "1796.0179022069128\n",
      "2021.0072281553632\n",
      "2043.8054822014096\n",
      "2092.8753892708437\n",
      "1843.18400247129\n"
     ]
    },
    {
     "data": {
      "text/plain": [
       "1843.18400247129"
      ]
     },
     "execution_count": 29,
     "metadata": {},
     "output_type": "execute_result"
    }
   ],
   "source": [
    "find_best_feature_squared(8,[6,13,4,1,2,8,12,3])\n",
    "find_best_feature_squared(8,[6,13,4,1,2,8,12,5])\n",
    "find_best_feature_squared(8,[6,13,4,1,2,8,12,7])\n",
    "find_best_feature_squared(8,[6,13,4,1,2,8,12,9])\n",
    "find_best_feature_squared(8,[6,13,4,1,2,8,12,10])\n",
    "find_best_feature_squared(8,[6,13,4,1,2,8,12,11])"
   ]
  },
  {
   "cell_type": "code",
   "execution_count": 30,
   "metadata": {},
   "outputs": [
    {
     "name": "stdout",
     "output_type": "stream",
     "text": [
      "1833.4660083373888\n",
      "1933.4898663932286\n",
      "1979.431277627197\n",
      "2039.7923386507082\n",
      "1900.0802232215453\n"
     ]
    },
    {
     "data": {
      "text/plain": [
       "1900.0802232215453"
      ]
     },
     "execution_count": 30,
     "metadata": {},
     "output_type": "execute_result"
    }
   ],
   "source": [
    "find_best_feature_squared(9,[6,13,4,1,2,8,12,5,3])\n",
    "find_best_feature_squared(9,[6,13,4,1,2,8,12,5,7])\n",
    "find_best_feature_squared(9,[6,13,4,1,2,8,12,5,9])\n",
    "find_best_feature_squared(9,[6,13,4,1,2,8,12,5,10])\n",
    "find_best_feature_squared(9,[6,13,4,1,2,8,12,5,11])"
   ]
  },
  {
   "cell_type": "code",
   "execution_count": 31,
   "metadata": {},
   "outputs": [
    {
     "name": "stdout",
     "output_type": "stream",
     "text": [
      "1944.8205709506012\n",
      "1993.870426523632\n",
      "2038.4482555799902\n",
      "1898.4275541812035\n"
     ]
    },
    {
     "data": {
      "text/plain": [
       "1898.4275541812035"
      ]
     },
     "execution_count": 31,
     "metadata": {},
     "output_type": "execute_result"
    }
   ],
   "source": [
    "find_best_feature_squared(10,[6,13,4,1,2,8,12,5,3,7])\n",
    "find_best_feature_squared(10,[6,13,4,1,2,8,12,5,3,9])\n",
    "find_best_feature_squared(10,[6,13,4,1,2,8,12,5,3,10])\n",
    "find_best_feature_squared(10,[6,13,4,1,2,8,12,5,3,11])"
   ]
  },
  {
   "cell_type": "code",
   "execution_count": 32,
   "metadata": {},
   "outputs": [
    {
     "name": "stdout",
     "output_type": "stream",
     "text": [
      "1960.7505977571939\n",
      "1787.103977699103\n",
      "1894.907308891728\n"
     ]
    },
    {
     "data": {
      "text/plain": [
       "1894.907308891728"
      ]
     },
     "execution_count": 32,
     "metadata": {},
     "output_type": "execute_result"
    }
   ],
   "source": [
    "find_best_feature_squared(11,[6,13,4,1,2,8,12,5,3,11,7])\n",
    "find_best_feature_squared(11,[6,13,4,1,2,8,12,5,3,11,9])\n",
    "find_best_feature_squared(11,[6,13,4,1,2,8,12,5,3,11,10])"
   ]
  },
  {
   "cell_type": "code",
   "execution_count": 33,
   "metadata": {},
   "outputs": [
    {
     "name": "stdout",
     "output_type": "stream",
     "text": [
      "1844.1639040062007\n",
      "1780.0008322848935\n"
     ]
    },
    {
     "data": {
      "text/plain": [
       "1780.0008322848935"
      ]
     },
     "execution_count": 33,
     "metadata": {},
     "output_type": "execute_result"
    }
   ],
   "source": [
    "find_best_feature_squared(12,[6,13,4,1,2,8,12,5,3,11,9,7])\n",
    "find_best_feature_squared(12,[6,13,4,1,2,8,12,5,3,11,9,10])"
   ]
  },
  {
   "cell_type": "code",
   "execution_count": 34,
   "metadata": {},
   "outputs": [
    {
     "name": "stdout",
     "output_type": "stream",
     "text": [
      "1833.9216047943416\n"
     ]
    },
    {
     "data": {
      "text/plain": [
       "1833.9216047943416"
      ]
     },
     "execution_count": 34,
     "metadata": {},
     "output_type": "execute_result"
    }
   ],
   "source": [
    "find_best_feature_squared(13,[6,13,4,1,2,8,12,5,3,11,9,10,7])"
   ]
  },
  {
   "cell_type": "code",
   "execution_count": 122,
   "metadata": {},
   "outputs": [
    {
     "name": "stdout",
     "output_type": "stream",
     "text": [
      "3205.952798920297\n",
      "2079.9804786846444\n",
      "1931.8819429516884\n",
      "1895.5899743129696\n",
      "1882.313733731468\n",
      "1774.835569669801\n",
      "1783.9324322087596\n",
      "1796.0179022069128\n",
      "1833.4660083373888\n",
      "1898.4275541812035\n",
      "1787.103977699103\n",
      "1780.0008322848935\n",
      "1833.9216047943416\n",
      "4893500.015545972\n",
      "681559.3371716624\n",
      "409409.3885000477\n",
      "376963.645799901\n",
      "319924.999575447\n",
      "192020.83197946232\n",
      "182362.06055753955\n",
      "161562.57534935305\n",
      "147992.82889039183\n",
      "169176.81289294336\n",
      "136145.3639328283\n",
      "124720.4236067809\n",
      "128737.52228009225\n"
     ]
    },
    {
     "data": {
      "image/png": "[encoded data removed]",
      "text/plain": [
       "<Figure size 432x288 with 1 Axes>"
      ]
     },
     "metadata": {
      "needs_background": "light"
     },
     "output_type": "display_data"
    }
   ],
   "source": [
    "a=find_best_feature_squared(1,[6])\n",
    "b=find_best_feature_squared(2,[6,13])\n",
    "c=find_best_feature_squared(3,[6,13,4])\n",
    "d=find_best_feature_squared(4,[6,13,4,1])\n",
    "e=find_best_feature_squared(5,[6,13,4,1,2])\n",
    "f=find_best_feature_squared(6,[6,13,4,1,2,8])\n",
    "g=find_best_feature_squared(7,[6,13,4,1,2,8,12])\n",
    "h=find_best_feature_squared(8,[6,13,4,1,2,8,12,5])\n",
    "i=find_best_feature_squared(9,[6,13,4,1,2,8,12,5,3])\n",
    "j=find_best_feature_squared(10,[6,13,4,1,2,8,12,5,3,11])\n",
    "k=find_best_feature_squared(11,[6,13,4,1,2,8,12,5,3,11,9])\n",
    "l=find_best_feature_squared(12,[6,13,4,1,2,8,12,5,3,11,9,10])\n",
    "m=find_best_feature_squared(13,[6,13,4,1,2,8,12,5,3,11,9,10,7])\n",
    "a1=test_error_S(1,[6])\n",
    "b1=test_error_S(2,[6,13])\n",
    "c1=test_error_S(3,[6,13,4])\n",
    "d1=test_error_S(4,[6,13,4,1])\n",
    "e1=test_error_S(5,[6,13,4,1,2])\n",
    "f1=test_error_S(6,[6,13,4,1,2,8])\n",
    "g1=test_error_S(7,[6,13,4,1,2,8,12])\n",
    "h1=test_error_S(8,[6,13,4,1,2,8,12,5])\n",
    "i1=test_error_S(9,[6,13,4,1,2,8,12,5,3])\n",
    "j1=test_error_S(10,[6,13,4,1,2,8,12,5,3,11])\n",
    "k1=test_error_S(11,[6,13,4,1,2,8,12,5,3,11,9])\n",
    "l1=test_error_S(12,[6,13,4,1,2,8,12,5,3,11,9,10])\n",
    "m1=test_error_S(13,[6,13,4,1,2,8,12,5,3,11,9,10,7])\n",
    "x = []\n",
    "y=[a,b,c,d,e,f,g,h,i,j,k,l,m]\n",
    "y1=[a1,b1,c1,d1,e1,f1,g1,h1,i1,j1,k1,l1,m1]\n",
    "for i in range(13):\n",
    "    x.append(i)\n",
    "plt.scatter(x,y)\n",
    "plt.scatter(x,y1)\n",
    "plt.show()"
   ]
  },
  {
   "cell_type": "code",
   "execution_count": 36,
   "metadata": {},
   "outputs": [
    {
     "name": "stdout",
     "output_type": "stream",
     "text": [
      "7091.668944333507\n",
      "7174.3164744050155\n",
      "7097.110648949021\n",
      "7042.62936811086\n",
      "7501.600489765532\n",
      "3822.7056371993217\n",
      "8240.513818519416\n",
      "9000.932402656992\n",
      "7573.594173873578\n",
      "6976.797087785593\n",
      "5124.526874924552\n",
      "6890.385025734608\n",
      "1257.430180052893\n"
     ]
    },
    {
     "data": {
      "text/plain": [
       "1257.430180052893"
      ]
     },
     "execution_count": 36,
     "metadata": {},
     "output_type": "execute_result"
    }
   ],
   "source": [
    "find_best_feature_cuberoot(1,[1])\n",
    "find_best_feature_cuberoot(1,[2])\n",
    "find_best_feature_cuberoot(1,[3])\n",
    "find_best_feature_cuberoot(1,[4])\n",
    "find_best_feature_cuberoot(1,[5])\n",
    "find_best_feature_cuberoot(1,[6])\n",
    "find_best_feature_cuberoot(1,[7])\n",
    "find_best_feature_cuberoot(1,[8])\n",
    "find_best_feature_cuberoot(1,[9])\n",
    "find_best_feature_cuberoot(1,[10])\n",
    "find_best_feature_cuberoot(1,[11])\n",
    "find_best_feature_cuberoot(1,[12])\n",
    "find_best_feature_cuberoot(1,[13])"
   ]
  },
  {
   "cell_type": "code",
   "execution_count": 37,
   "metadata": {},
   "outputs": [
    {
     "name": "stdout",
     "output_type": "stream",
     "text": [
      "1271.8555795053276\n",
      "1261.8754349113672\n",
      "1282.237783969618\n",
      "1163.6634376097875\n",
      "1160.468400666839\n",
      "1074.0232875427175\n",
      "1051.7532222096331\n",
      "876.1712331052024\n",
      "1245.001483149383\n",
      "1321.7401797349899\n",
      "1163.656482534089\n",
      "1260.3416432882361\n"
     ]
    },
    {
     "data": {
      "text/plain": [
       "1260.3416432882361"
      ]
     },
     "execution_count": 37,
     "metadata": {},
     "output_type": "execute_result"
    }
   ],
   "source": [
    "find_best_feature_cuberoot(2,[13,1])\n",
    "find_best_feature_cuberoot(2,[13,2])\n",
    "find_best_feature_cuberoot(2,[13,3])\n",
    "find_best_feature_cuberoot(2,[13,4])\n",
    "find_best_feature_cuberoot(2,[13,5])\n",
    "find_best_feature_cuberoot(2,[13,6])\n",
    "find_best_feature_cuberoot(2,[13,7])\n",
    "find_best_feature_cuberoot(2,[13,8])\n",
    "find_best_feature_cuberoot(2,[13,9])\n",
    "find_best_feature_cuberoot(2,[13,10])\n",
    "find_best_feature_cuberoot(2,[13,11])\n",
    "find_best_feature_cuberoot(2,[13,12])\n"
   ]
  },
  {
   "cell_type": "code",
   "execution_count": 38,
   "metadata": {},
   "outputs": [
    {
     "name": "stdout",
     "output_type": "stream",
     "text": [
      "865.6386200816341\n",
      "780.1294143175824\n",
      "743.557617840212\n",
      "866.2273182596709\n",
      "825.6347306221272\n",
      "765.7357416463885\n",
      "881.3717210740384\n",
      "874.5844374121904\n",
      "814.7626100386663\n",
      "761.6186873749322\n",
      "847.0222039492694\n"
     ]
    },
    {
     "data": {
      "text/plain": [
       "847.0222039492694"
      ]
     },
     "execution_count": 38,
     "metadata": {},
     "output_type": "execute_result"
    }
   ],
   "source": [
    "find_best_feature_cuberoot(3,[13,8,1])\n",
    "find_best_feature_cuberoot(3,[13,8,2])\n",
    "find_best_feature_cuberoot(3,[13,8,3])\n",
    "find_best_feature_cuberoot(3,[13,8,4])\n",
    "find_best_feature_cuberoot(3,[13,8,5])\n",
    "find_best_feature_cuberoot(3,[13,8,6])\n",
    "find_best_feature_cuberoot(3,[13,8,7])\n",
    "find_best_feature_cuberoot(3,[13,8,9])\n",
    "find_best_feature_cuberoot(3,[13,8,10])\n",
    "find_best_feature_cuberoot(3,[13,8,11])\n",
    "find_best_feature_cuberoot(3,[13,8,12])"
   ]
  },
  {
   "cell_type": "code",
   "execution_count": 39,
   "metadata": {},
   "outputs": [
    {
     "name": "stdout",
     "output_type": "stream",
     "text": [
      "761.3012681582076\n",
      "707.1463668342224\n",
      "699.2295417243338\n",
      "724.3885384789886\n",
      "703.9211907451515\n",
      "745.1236913238138\n",
      "747.0142873003113\n",
      "747.3277356567704\n",
      "712.2141108991059\n",
      "726.6865295395764\n"
     ]
    },
    {
     "data": {
      "text/plain": [
       "726.6865295395764"
      ]
     },
     "execution_count": 39,
     "metadata": {},
     "output_type": "execute_result"
    }
   ],
   "source": [
    "find_best_feature_cuberoot(4,[13,8,3,1])\n",
    "find_best_feature_cuberoot(4,[13,8,3,2])\n",
    "find_best_feature_cuberoot(4,[13,8,3,4])\n",
    "find_best_feature_cuberoot(4,[13,8,3,5])\n",
    "find_best_feature_cuberoot(4,[13,8,3,6])\n",
    "find_best_feature_cuberoot(4,[13,8,3,7])\n",
    "find_best_feature_cuberoot(4,[13,8,3,9])\n",
    "find_best_feature_cuberoot(4,[13,8,3,10])\n",
    "find_best_feature_cuberoot(4,[13,8,3,11])\n",
    "find_best_feature_cuberoot(4,[13,8,3,12])"
   ]
  },
  {
   "cell_type": "code",
   "execution_count": 40,
   "metadata": {},
   "outputs": [
    {
     "name": "stdout",
     "output_type": "stream",
     "text": [
      "711.8454095201647\n",
      "667.4528215369285\n",
      "678.6048040468438\n",
      "656.9441913560867\n",
      "700.4513663472065\n",
      "700.5679653560101\n",
      "695.9646592565707\n",
      "667.9100257649733\n",
      "685.2772791848545\n"
     ]
    },
    {
     "data": {
      "text/plain": [
       "685.2772791848545"
      ]
     },
     "execution_count": 40,
     "metadata": {},
     "output_type": "execute_result"
    }
   ],
   "source": [
    "find_best_feature_cuberoot(5,[13,8,3,4,1])\n",
    "find_best_feature_cuberoot(5,[13,8,3,4,2])\n",
    "find_best_feature_cuberoot(5,[13,8,3,4,5])\n",
    "find_best_feature_cuberoot(5,[13,8,3,4,6])\n",
    "find_best_feature_cuberoot(5,[13,8,3,4,7])\n",
    "find_best_feature_cuberoot(5,[13,8,3,4,9])\n",
    "find_best_feature_cuberoot(5,[13,8,3,4,10])\n",
    "find_best_feature_cuberoot(5,[13,8,3,4,11])\n",
    "find_best_feature_cuberoot(5,[13,8,3,4,12])"
   ]
  },
  {
   "cell_type": "code",
   "execution_count": 41,
   "metadata": {},
   "outputs": [
    {
     "name": "stdout",
     "output_type": "stream",
     "text": [
      "678.8255944693402\n",
      "630.9351681056854\n",
      "620.7106215682575\n",
      "657.0968761396977\n",
      "670.7897868329426\n",
      "678.9957388151486\n",
      "667.4594704623801\n",
      "648.2731118631193\n"
     ]
    },
    {
     "data": {
      "text/plain": [
       "648.2731118631193"
      ]
     },
     "execution_count": 41,
     "metadata": {},
     "output_type": "execute_result"
    }
   ],
   "source": [
    "find_best_feature_cuberoot(6,[13,8,3,4,6,1])\n",
    "find_best_feature_cuberoot(6,[13,8,3,4,6,2])\n",
    "find_best_feature_cuberoot(6,[13,8,3,4,6,5])\n",
    "find_best_feature_cuberoot(6,[13,8,3,4,6,7])\n",
    "find_best_feature_cuberoot(6,[13,8,3,4,6,9])\n",
    "find_best_feature_cuberoot(6,[13,8,3,4,6,10])\n",
    "find_best_feature_cuberoot(6,[13,8,3,4,6,11])\n",
    "find_best_feature_cuberoot(6,[13,8,3,4,6,12])"
   ]
  },
  {
   "cell_type": "code",
   "execution_count": 42,
   "metadata": {},
   "outputs": [
    {
     "name": "stdout",
     "output_type": "stream",
     "text": [
      "640.5071404421676\n",
      "588.5086412802868\n",
      "619.5823901417618\n",
      "624.6631683016874\n",
      "642.0961375917203\n",
      "607.2248338591794\n",
      "616.8621358048615\n"
     ]
    },
    {
     "data": {
      "text/plain": [
       "616.8621358048615"
      ]
     },
     "execution_count": 42,
     "metadata": {},
     "output_type": "execute_result"
    }
   ],
   "source": [
    "find_best_feature_cuberoot(7,[13,8,3,4,6,5,1])\n",
    "find_best_feature_cuberoot(7,[13,8,3,4,6,5,2])\n",
    "find_best_feature_cuberoot(7,[13,8,3,4,6,5,7])\n",
    "find_best_feature_cuberoot(7,[13,8,3,4,6,5,9])\n",
    "find_best_feature_cuberoot(7,[13,8,3,4,6,5,10])\n",
    "find_best_feature_cuberoot(7,[13,8,3,4,6,5,11])\n",
    "find_best_feature_cuberoot(7,[13,8,3,4,6,5,12])"
   ]
  },
  {
   "cell_type": "code",
   "execution_count": 43,
   "metadata": {},
   "outputs": [
    {
     "name": "stdout",
     "output_type": "stream",
     "text": [
      "605.267860397091\n",
      "585.5956566319835\n",
      "594.6701638704905\n",
      "607.080351285088\n",
      "600.3320960590302\n",
      "583.4631940729107\n"
     ]
    },
    {
     "data": {
      "text/plain": [
       "583.4631940729107"
      ]
     },
     "execution_count": 43,
     "metadata": {},
     "output_type": "execute_result"
    }
   ],
   "source": [
    "find_best_feature_cuberoot(8,[13,8,3,4,6,5,2,1])\n",
    "find_best_feature_cuberoot(8,[13,8,3,4,6,5,2,7])\n",
    "find_best_feature_cuberoot(8,[13,8,3,4,6,5,2,9])\n",
    "find_best_feature_cuberoot(8,[13,8,3,4,6,5,2,10])\n",
    "find_best_feature_cuberoot(8,[13,8,3,4,6,5,2,11])\n",
    "find_best_feature_cuberoot(8,[13,8,3,4,6,5,2,12])"
   ]
  },
  {
   "cell_type": "code",
   "execution_count": 44,
   "metadata": {},
   "outputs": [
    {
     "name": "stdout",
     "output_type": "stream",
     "text": [
      "591.4811782975174\n",
      "581.1540372544658\n",
      "579.3076090079949\n",
      "598.1409142058444\n",
      "598.5961633649795\n"
     ]
    },
    {
     "data": {
      "text/plain": [
       "598.5961633649795"
      ]
     },
     "execution_count": 44,
     "metadata": {},
     "output_type": "execute_result"
    }
   ],
   "source": [
    "find_best_feature_cuberoot(9,[13,8,3,4,6,5,2,12,1])\n",
    "find_best_feature_cuberoot(9,[13,8,3,4,6,5,2,12,7])\n",
    "find_best_feature_cuberoot(9,[13,8,3,4,6,5,2,12,9])\n",
    "find_best_feature_cuberoot(9,[13,8,3,4,6,5,2,12,10])\n",
    "find_best_feature_cuberoot(9,[13,8,3,4,6,5,2,12,11])"
   ]
  },
  {
   "cell_type": "code",
   "execution_count": 45,
   "metadata": {},
   "outputs": [
    {
     "name": "stdout",
     "output_type": "stream",
     "text": [
      "569.6791728448926\n",
      "576.674207015626\n",
      "560.4429721595847\n",
      "542.5301852514718\n"
     ]
    },
    {
     "data": {
      "text/plain": [
       "542.5301852514718"
      ]
     },
     "execution_count": 45,
     "metadata": {},
     "output_type": "execute_result"
    }
   ],
   "source": [
    "find_best_feature_cuberoot(10,[13,8,3,4,6,5,2,12,9,1])\n",
    "find_best_feature_cuberoot(10,[13,8,3,4,6,5,2,12,9,7])\n",
    "find_best_feature_cuberoot(10,[13,8,3,4,6,5,2,12,9,10])\n",
    "find_best_feature_cuberoot(10,[13,8,3,4,6,5,2,12,9,11])"
   ]
  },
  {
   "cell_type": "code",
   "execution_count": 46,
   "metadata": {},
   "outputs": [
    {
     "name": "stdout",
     "output_type": "stream",
     "text": [
      "530.3859808146523\n",
      "538.444594408078\n",
      "534.3526228176547\n"
     ]
    },
    {
     "data": {
      "text/plain": [
       "534.3526228176547"
      ]
     },
     "execution_count": 46,
     "metadata": {},
     "output_type": "execute_result"
    }
   ],
   "source": [
    "find_best_feature_cuberoot(11,[13,8,3,4,6,5,2,12,9,11,1])\n",
    "find_best_feature_cuberoot(11,[13,8,3,4,6,5,2,12,9,11,7])\n",
    "find_best_feature_cuberoot(11,[13,8,3,4,6,5,2,12,9,11,10])"
   ]
  },
  {
   "cell_type": "code",
   "execution_count": 47,
   "metadata": {},
   "outputs": [
    {
     "name": "stdout",
     "output_type": "stream",
     "text": [
      "526.9668270517121\n",
      "525.6709633477863\n"
     ]
    },
    {
     "data": {
      "text/plain": [
       "525.6709633477863"
      ]
     },
     "execution_count": 47,
     "metadata": {},
     "output_type": "execute_result"
    }
   ],
   "source": [
    "find_best_feature_cuberoot(12,[13,8,3,4,6,5,2,12,9,11,1,7])\n",
    "find_best_feature_cuberoot(12,[13,8,3,4,6,5,2,12,9,11,1,10])"
   ]
  },
  {
   "cell_type": "code",
   "execution_count": 48,
   "metadata": {},
   "outputs": [
    {
     "name": "stdout",
     "output_type": "stream",
     "text": [
      "521.9397484591861\n"
     ]
    },
    {
     "data": {
      "text/plain": [
       "521.9397484591861"
      ]
     },
     "execution_count": 48,
     "metadata": {},
     "output_type": "execute_result"
    }
   ],
   "source": [
    "find_best_feature_cuberoot(13,[13,8,3,4,6,5,2,12,9,11,1,10,7])"
   ]
  },
  {
   "cell_type": "code",
   "execution_count": 120,
   "metadata": {},
   "outputs": [
    {
     "name": "stdout",
     "output_type": "stream",
     "text": [
      "1257.430180052893\n",
      "876.1712331052024\n",
      "743.557617840212\n",
      "699.2295417243338\n",
      "656.9441913560867\n",
      "620.7106215682575\n",
      "588.5086412802868\n",
      "583.4631940729107\n",
      "579.3076090079949\n",
      "542.5301852514718\n",
      "530.3859808146523\n",
      "525.6709633477863\n",
      "521.9397484591861\n",
      "834478.3792145918\n",
      "324811.1049498525\n",
      "207262.30877814037\n",
      "131973.60397913202\n",
      "243074.83270883356\n",
      "210571.1742095321\n",
      "158452.4994808683\n",
      "151836.64924173747\n",
      "175656.48021930785\n",
      "154936.2904854015\n",
      "136145.3639329133\n",
      "124720.42360675697\n",
      "128737.52228020634\n"
     ]
    },
    {
     "data": {
      "image/png": "[encoded data removed]",
      "text/plain": [
       "<Figure size 432x288 with 1 Axes>"
      ]
     },
     "metadata": {
      "needs_background": "light"
     },
     "output_type": "display_data"
    }
   ],
   "source": [
    "a=find_best_feature_cuberoot(1,[13])\n",
    "b=find_best_feature_cuberoot(2,[13,8])\n",
    "c=find_best_feature_cuberoot(3,[13,8,3])\n",
    "d=find_best_feature_cuberoot(4,[13,8,3,4])\n",
    "e=find_best_feature_cuberoot(5,[13,8,3,4,6])\n",
    "f=find_best_feature_cuberoot(6,[13,8,3,4,6,5])\n",
    "g=find_best_feature_cuberoot(7,[13,8,3,4,6,5,2])\n",
    "h=find_best_feature_cuberoot(8,[13,8,3,4,6,5,2,12])\n",
    "i=find_best_feature_cuberoot(9,[13,8,3,4,6,5,2,12,9])\n",
    "j=find_best_feature_cuberoot(10,[13,8,3,4,6,5,2,12,9,11])\n",
    "k=find_best_feature_cuberoot(11,[13,8,3,4,6,5,2,12,9,11,1])\n",
    "l=find_best_feature_cuberoot(12,[13,8,3,4,6,5,2,12,9,11,1,10])\n",
    "m=find_best_feature_cuberoot(13,[13,8,3,4,6,5,2,12,9,11,1,10,7])\n",
    "a1=test_error_S(1,[13])\n",
    "b1=test_error_S(2,[13,8])\n",
    "c1=test_error_S(3,[13,8,3])\n",
    "d1=test_error_S(4,[13,8,3,4])\n",
    "e1=test_error_S(5,[13,8,3,4,6])\n",
    "f1=test_error_S(6,[13,8,3,4,6,5])\n",
    "g1=test_error_S(7,[13,8,3,4,6,5,2])\n",
    "h1=test_error_S(8,[13,8,3,4,6,5,2,12])\n",
    "i1=test_error_S(9,[13,8,3,4,6,5,2,12,9])\n",
    "j1=test_error_S(10,[13,8,3,4,6,5,2,12,9,11])\n",
    "k1=test_error_S(11,[13,8,3,4,6,5,2,12,9,11,1])\n",
    "l1=test_error_S(12,[13,8,3,4,6,5,2,12,9,11,1,10])\n",
    "m1=test_error_S(13,[13,8,3,4,6,5,2,12,9,11,1,10,7])\n",
    "x = []\n",
    "y=[a,b,c,d,e,f,g,h,i,j,k,l,m]\n",
    "y1=[a1,b1,c1,d1,e1,f1,g1,h1,i1,j1,k1,l1,m1]\n",
    "for i in range(13):\n",
    "    x.append(i)\n",
    "plt.scatter(x,y)\n",
    "plt.scatter(x,y1)\n",
    "plt.show()"
   ]
  },
  {
   "cell_type": "code",
   "execution_count": null,
   "metadata": {},
   "outputs": [],
   "source": []
  }
 ],
 "metadata": {
  "kernelspec": {
   "display_name": "Python 3",
   "language": "python",
   "name": "python3"
  },
  "language_info": {
   "codemirror_mode": {
    "name": "ipython",
    "version": 3
   },
   "file_extension": ".py",
   "mimetype": "text/x-python",
   "name": "python",
   "nbconvert_exporter": "python",
   "pygments_lexer": "ipython3",
   "version": "3.7.4"
  }
 },
 "nbformat": 4,
 "nbformat_minor": 2
}
