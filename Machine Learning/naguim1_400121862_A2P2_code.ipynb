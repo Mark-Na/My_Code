{
 "cells": [
  {
   "cell_type": "code",
   "execution_count": 45,
   "metadata": {},
   "outputs": [],
   "source": [
    "from sklearn import tree\n",
    "import pandas as pd\n",
    "import numpy as np\n",
    "from sklearn.model_selection import train_test_split\n",
    "from sklearn.tree import DecisionTreeClassifier\n",
    "from sklearn.tree import export_text\n",
    "spam = pd.read_csv('C:/Users/Mark Naguib/AppData/Roaming/SPB_Data/spambase.data')\n",
    "X =spam.iloc[:, :-1].values\n",
    "t = spam.iloc[:, -1].values\n",
    "np.random.seed(1862)#400121862\n",
    "X_train,X_test,t_train,t_test=train_test_split(X,t,test_size=1/3,random_state=1862)"
   ]
  },
  {
   "cell_type": "code",
   "execution_count": 88,
   "metadata": {},
   "outputs": [],
   "source": [
    "def decision_tree():\n",
    "    from sklearn.model_selection import cross_val_score\n",
    "    crosserr = np.empty(399)\n",
    "    err = 0\n",
    "    for n in range(2,401):\n",
    "        clf = DecisionTreeClassifier(max_leaf_nodes=n, random_state=1862)\n",
    "        clf = clf.fit(X_train, t_train)\n",
    "        r = export_text(clf)\n",
    "#        print(\"There are \"+ str(n) +\" leaf nodes:\")\n",
    "#        print(r)\n",
    "        clf_predict = clf.predict(X_test)-t_test\n",
    "        clf_score = cross_val_score(clf,X_test,t_test,cv=10)\n",
    "        for i in range(10):\n",
    "            err = err + cross_val_score(clf,X_test,t_test,cv=10)[i]\n",
    "        err = err/10\n",
    "        crosserr = np.append(crosserr,[err],axis=0)\n",
    "    sort = np.argsort(crosserr)\n",
    "    crosserr2=crosserr[sort[0]]*np.ones(5)\n",
    "    return crosserr[398:-1]\n"
   ]
  },
  {
   "cell_type": "code",
   "execution_count": 89,
   "metadata": {},
   "outputs": [
    {
     "data": {
      "image/png": "[encoded data removed]",
      "text/plain": [
       "<Figure size 432x288 with 1 Axes>"
      ]
     },
     "metadata": {
      "needs_background": "light"
     },
     "output_type": "display_data"
    }
   ],
   "source": [
    "err1 = decision_tree()\n",
    "x = []\n",
    "for i in range(2,401):\n",
    "    x.append(i)\n",
    "plt.plot(x,err1)\n",
    "plt.show()"
   ]
  },
  {
   "cell_type": "code",
   "execution_count": 60,
   "metadata": {},
   "outputs": [],
   "source": [
    "def bagging():\n",
    "    from sklearn.svm import SVC\n",
    "    from sklearn.ensemble import BaggingClassifier\n",
    "    from sklearn.datasets import make_classification\n",
    "    err = np.empty(5)\n",
    "    count = 0\n",
    "    clf = BaggingClassifier(base_estimator=SVC(gamma='auto'),\n",
    "    n_estimators=200, random_state=1862).fit(X_train, t_train)\n",
    "    clf_predict = clf.predict(X_test)-t_test\n",
    "    err = np.append(err,[clf.score(X_test,t_test)],axis=0)\n",
    "    count=0\n",
    "    clf = BaggingClassifier(base_estimator=SVC(gamma='auto'),\n",
    "    n_estimators=400, random_state=1862).fit(X_train, t_train)\n",
    "    clf_predict = clf.predict(X_test)-t_test\n",
    "    err = np.append(err,[clf.score(X_test,t_test)],axis=0)\n",
    "    count=0\n",
    "    clf = BaggingClassifier(base_estimator=SVC(gamma='auto'),\n",
    "    n_estimators=600, random_state=1862).fit(X_train, t_train)\n",
    "    clf_predict = clf.predict(X_test)-t_test\n",
    "    err = np.append(err,[clf.score(X_test,t_test)],axis=0)\n",
    "    count=0\n",
    "    clf = BaggingClassifier(base_estimator=SVC(gamma='auto'),\n",
    "    n_estimators=800, random_state=1862).fit(X_train, t_train)\n",
    "    clf_predict = clf.predict(X_test)-t_test\n",
    "    err = np.append(err,[clf.score(X_test,t_test)],axis=0)\n",
    "    count=0\n",
    "    clf = BaggingClassifier(base_estimator=SVC(gamma='auto'),\n",
    "    n_estimators=1000, random_state=1862).fit(X_train, t_train)\n",
    "    clf_predict = clf.predict(X_test)-t_test\n",
    "    err = np.append(err,[clf.score(X_test,t_test)],axis=0)\n",
    "    count=0\n",
    "    return err[4:9]"
   ]
  },
  {
   "cell_type": "code",
   "execution_count": 61,
   "metadata": {},
   "outputs": [
    {
     "name": "stdout",
     "output_type": "stream",
     "text": [
      "[0.93089961 0.82007823 0.81877445 0.81747066 0.81681877]\n"
     ]
    }
   ],
   "source": [
    "err2 = bagging()\n",
    "print(err2)"
   ]
  },
  {
   "cell_type": "code",
   "execution_count": null,
   "metadata": {},
   "outputs": [],
   "source": []
  },
  {
   "cell_type": "code",
   "execution_count": 50,
   "metadata": {},
   "outputs": [],
   "source": [
    "def forest():\n",
    "    from sklearn.ensemble import RandomForestClassifier\n",
    "    from sklearn.datasets import make_classification\n",
    "    err = []\n",
    "    count = 0\n",
    "    clf2 = RandomForestClassifier(n_estimators = 200,random_state=1862)\n",
    "    clf2.fit(X_train, t_train)\n",
    "    clf2_predict=clf2.predict(X_test)-t_test\n",
    "    for j in range(len(clf2.predict(X_test)-t_test)):\n",
    "        if (clf2_predict[j]) != 0:\n",
    "            count = count + 1\n",
    "    err.append(count/len(X_test))\n",
    "    count=0\n",
    "    clf2 = RandomForestClassifier(n_estimators = 400,random_state=1862)\n",
    "    clf2.fit(X_train, t_train)\n",
    "    clf2_predict=clf2.predict(X_test)-t_test\n",
    "    for j in range(len(clf2.predict(X_test)-t_test)):\n",
    "        if (clf2_predict[j]) != 0:\n",
    "            count = count + 1\n",
    "    err.append(count/len(X_test))\n",
    "    count=0\n",
    "    clf2 = RandomForestClassifier(n_estimators = 600,random_state=1862)\n",
    "    clf2.fit(X_train, t_train)\n",
    "    clf2_predict=clf2.predict(X_test)-t_test\n",
    "    for j in range(len(clf2.predict(X_test)-t_test)):\n",
    "        if (clf2_predict[j]) != 0:\n",
    "            count = count + 1\n",
    "    err.append(count/len(X_test))\n",
    "    count=0\n",
    "    clf2 = RandomForestClassifier(n_estimators = 800,random_state=1862)\n",
    "    clf2.fit(X_train, t_train)\n",
    "    clf2_predict=clf2.predict(X_test)-t_test\n",
    "    for j in range(len(clf2.predict(X_test)-t_test)):\n",
    "        if (clf2_predict[j]) != 0:\n",
    "            count = count + 1\n",
    "    err.append(count/len(X_test))\n",
    "    count=0\n",
    "    clf2 = RandomForestClassifier(n_estimators = 1000,random_state=1862)\n",
    "    clf2.fit(X_train, t_train)\n",
    "    clf2_predict=clf2.predict(X_test)-t_test\n",
    "    for j in range(len(clf2.predict(X_test)-t_test)):\n",
    "        if (clf2_predict[j]) != 0:\n",
    "            count = count + 1\n",
    "    err.append(count/len(X_test))\n",
    "    count=0\n",
    "    return err"
   ]
  },
  {
   "cell_type": "code",
   "execution_count": 51,
   "metadata": {},
   "outputs": [
    {
     "name": "stdout",
     "output_type": "stream",
     "text": [
      "[0.05867014341590613, 0.058018252933507174, 0.05867014341590613, 0.056714471968709254, 0.05736636245110821]\n"
     ]
    }
   ],
   "source": [
    "err3 = forest()\n",
    "print(err3)"
   ]
  },
  {
   "cell_type": "code",
   "execution_count": 52,
   "metadata": {},
   "outputs": [],
   "source": [
    "def AdaBoost():\n",
    "    from sklearn.ensemble import AdaBoostClassifier\n",
    "    err=np.empty(5)\n",
    "    count = 0\n",
    "    clf3 = AdaBoostClassifier(base_estimator = None ,n_estimators = 200,random_state=1862,)\n",
    "    clf3.fit(X_train, t_train)\n",
    "    clf3_predict = clf3.predict(X_test)-t_test\n",
    "    err=np.append(err,[clf3.score(X_test,t_test)],axis=0)\n",
    "    count=0\n",
    "    clf3 = AdaBoostClassifier(base_estimator = None ,n_estimators = 400,random_state=1862,)\n",
    "    clf3.fit(X_train, t_train)\n",
    "    clf3_predict = clf3.predict(X_test)-t_test\n",
    "    err=np.append(err,[clf3.score(X_test,t_test)],axis=0)\n",
    "    count=0\n",
    "    clf3 = AdaBoostClassifier(base_estimator = None ,n_estimators = 600,random_state=1862,)\n",
    "    clf3.fit(X_train, t_train)\n",
    "    clf3_predict = clf3.predict(X_test)-t_test\n",
    "    err=np.append(err,[clf3.score(X_test,t_test)],axis=0)\n",
    "    count=0\n",
    "    clf3 = AdaBoostClassifier(base_estimator = None ,n_estimators = 800,random_state=1862,)\n",
    "    clf3.fit(X_train, t_train)\n",
    "    clf3_predict = clf3.predict(X_test)-t_test\n",
    "    err=np.append(err,[clf3.score(X_test,t_test)],axis=0)\n",
    "    count=0\n",
    "    clf3 = AdaBoostClassifier(base_estimator = None ,n_estimators = 1000,random_state=1862,)\n",
    "    clf3.fit(X_train, t_train)\n",
    "    clf3_predict = clf3.predict(X_test)-t_test\n",
    "    err=np.append(err,[clf3.score(X_test,t_test)],axis=0)\n",
    "    count=0\n",
    "    return err[4:9]"
   ]
  },
  {
   "cell_type": "code",
   "execution_count": 59,
   "metadata": {},
   "outputs": [
    {
     "name": "stdout",
     "output_type": "stream",
     "text": [
      "[2.5e-323 3.0e-323 3.5e-323 4.0e-323 4.4e-323]\n",
      "[4.44659081e-323 9.36114733e-001 9.38070404e-001 9.37418514e-001\n",
      " 9.30899609e-001]\n"
     ]
    }
   ],
   "source": [
    "err4 = AdaBoost()\n",
    "print(err4)"
   ]
  },
  {
   "cell_type": "code",
   "execution_count": 54,
   "metadata": {},
   "outputs": [],
   "source": [
    "def AdaBoost2():\n",
    "    from sklearn.ensemble import AdaBoostClassifier\n",
    "    err = np.empty(5)\n",
    "    count = 0\n",
    "    clf4 = AdaBoostClassifier(base_estimator = DecisionTreeClassifier(max_leaf_nodes=10) ,n_estimators = 200,random_state=1862,)\n",
    "    clf4.fit(X_train, t_train)\n",
    "    clf4_predict = clf4.predict(X_test)-t_test\n",
    "    for j in range (len(clf4.predict(X_test)-t_test)):\n",
    "        if (clf4_predict[j]) != 0:\n",
    "            count = count + 1\n",
    "    err = np.append(err,[clf4.score(X_test,t_test)],axis=0)\n",
    "    count=0\n",
    "    clf4 = AdaBoostClassifier(base_estimator = DecisionTreeClassifier(max_leaf_nodes=10) ,n_estimators = 400,random_state=1862,)\n",
    "    clf4.fit(X_train, t_train)\n",
    "    clf4_predict = clf4.predict(X_test)-t_test\n",
    "    for j in range (len(clf4.predict(X_test)-t_test)):\n",
    "        if (clf4_predict[j]) != 0:\n",
    "            count = count + 1\n",
    "    err = np.append(err,[clf4.score(X_test,t_test)],axis=0)\n",
    "    count=0\n",
    "    clf4 = AdaBoostClassifier(base_estimator = DecisionTreeClassifier(max_leaf_nodes=10) ,n_estimators = 600,random_state=1862,)\n",
    "    clf4.fit(X_train, t_train)\n",
    "    clf4_predict = clf4.predict(X_test)-t_test\n",
    "    for j in range (len(clf4.predict(X_test)-t_test)):\n",
    "        if (clf4_predict[j]) != 0:\n",
    "            count = count + 1\n",
    "    err = np.append(err,[clf4.score(X_test,t_test)],axis=0)\n",
    "    count=0\n",
    "    clf4 = AdaBoostClassifier(base_estimator = DecisionTreeClassifier(max_leaf_nodes=10) ,n_estimators = 800,random_state=1862,)\n",
    "    clf4.fit(X_train, t_train)\n",
    "    clf4_predict = clf4.predict(X_test)-t_test\n",
    "    for j in range (len(clf4.predict(X_test)-t_test)):\n",
    "        if (clf4_predict[j]) != 0:\n",
    "            count = count + 1\n",
    "    err = np.append(err,[clf4.score(X_test,t_test)],axis=0)\n",
    "    count=0\n",
    "    clf4 = AdaBoostClassifier(base_estimator = DecisionTreeClassifier(max_leaf_nodes=10) ,n_estimators = 1000,random_state=1862,)\n",
    "    clf4.fit(X_train, t_train)\n",
    "    clf4_predict = clf4.predict(X_test)-t_test\n",
    "    for j in range (len(clf4.predict(X_test)-t_test)):\n",
    "        if (clf4_predict[j]) != 0:\n",
    "            count = count + 1\n",
    "    err = np.append(err,[clf4.score(X_test,t_test)],axis=0)\n",
    "    count=0\n",
    "    return err[4:9]"
   ]
  },
  {
   "cell_type": "code",
   "execution_count": 55,
   "metadata": {},
   "outputs": [
    {
     "name": "stdout",
     "output_type": "stream",
     "text": [
      "[0.93089961 0.94263364 0.94263364 0.93611473 0.94263364]\n"
     ]
    }
   ],
   "source": [
    "err5 = AdaBoost2()\n",
    "print(err5)"
   ]
  },
  {
   "cell_type": "code",
   "execution_count": 56,
   "metadata": {},
   "outputs": [],
   "source": [
    "def AdaBoost3():\n",
    "    from sklearn.ensemble import AdaBoostClassifier\n",
    "    err = np.empty(5)\n",
    "    count = 0\n",
    "    clf5 = AdaBoostClassifier(base_estimator = DecisionTreeClassifier() ,n_estimators = 200,random_state=1862,)\n",
    "    clf5.fit(X_train, t_train)\n",
    "    clf5_predict = clf5.predict(X_test)-t_test\n",
    "    for j in range (len(clf5.predict(X_test)-t_test)):\n",
    "        if (clf5_predict[j]) != 0:\n",
    "            count = count + 1\n",
    "    err = np.append(err,[clf5.score(X_test,t_test)],axis=0)\n",
    "    count=0\n",
    "    clf5 = AdaBoostClassifier(base_estimator = DecisionTreeClassifier() ,n_estimators = 400,random_state=1862,)\n",
    "    clf5.fit(X_train, t_train)\n",
    "    clf5_predict = clf5.predict(X_test)-t_test\n",
    "    for j in range (len(clf5.predict(X_test)-t_test)):\n",
    "        if (clf5_predict[j]) != 0:\n",
    "            count = count + 1\n",
    "    err = np.append(err,[clf5.score(X_test,t_test)],axis=0)\n",
    "    count=0\n",
    "    clf5 = AdaBoostClassifier(base_estimator = DecisionTreeClassifier() ,n_estimators = 600,random_state=1862,)\n",
    "    clf5.fit(X_train, t_train)\n",
    "    clf5_predict = clf5.predict(X_test)-t_test\n",
    "    for j in range (len(clf5.predict(X_test)-t_test)):\n",
    "        if (clf5_predict[j]) != 0:\n",
    "            count = count + 1\n",
    "    err = np.append(err,[clf5.score(X_test,t_test)],axis=0)\n",
    "    count=0\n",
    "    clf5 = AdaBoostClassifier(base_estimator = DecisionTreeClassifier() ,n_estimators = 800,random_state=1862,)\n",
    "    clf5.fit(X_train, t_train)\n",
    "    clf5_predict = clf5.predict(X_test)-t_test\n",
    "    for j in range (len(clf5.predict(X_test)-t_test)):\n",
    "        if (clf5_predict[j]) != 0:\n",
    "            count = count + 1\n",
    "    err = np.append(err,[clf5.score(X_test,t_test)],axis=0)\n",
    "    count=0\n",
    "    clf5 = AdaBoostClassifier(base_estimator = DecisionTreeClassifier() ,n_estimators = 1000,random_state=1862,)\n",
    "    clf5.fit(X_train, t_train)\n",
    "    clf5_predict = clf5.predict(X_test)-t_test\n",
    "    for j in range (len(clf5.predict(X_test)-t_test)):\n",
    "        if (clf5_predict[j]) != 0:\n",
    "            count = count + 1\n",
    "    err = np.append(err,[clf5.score(X_test,t_test)],axis=0)\n",
    "    count=0\n",
    "    return err[4:9]"
   ]
  },
  {
   "cell_type": "code",
   "execution_count": 57,
   "metadata": {},
   "outputs": [
    {
     "name": "stdout",
     "output_type": "stream",
     "text": [
      "[0.94263364 0.94393742 0.94393742 0.94393742 0.94393742]\n"
     ]
    }
   ],
   "source": [
    "err6 = AdaBoost3()\n",
    "print(err6)"
   ]
  },
  {
   "cell_type": "code",
   "execution_count": 77,
   "metadata": {},
   "outputs": [
    {
     "data": {
      "image/png": "[encoded data removed]",
      "text/plain": [
       "<Figure size 432x288 with 1 Axes>"
      ]
     },
     "metadata": {
      "needs_background": "light"
     },
     "output_type": "display_data"
    }
   ],
   "source": [
    "import matplotlib.pyplot as plt\n",
    "estimator = [200,400,600,800,1000]\n",
    "plt.plot(estimator,err1,'r',estimator,err2,'b',estimator,err3,'k',estimator,err4,'y',estimator,err5,'g',estimator,err6,'cyan')\n",
    "plt.show()"
   ]
  },
  {
   "cell_type": "code",
   "execution_count": null,
   "metadata": {},
   "outputs": [],
   "source": []
  }
 ],
 "metadata": {
  "kernelspec": {
   "display_name": "Python 3",
   "language": "python",
   "name": "python3"
  },
  "language_info": {
   "codemirror_mode": {
    "name": "ipython",
    "version": 3
   },
   "file_extension": ".py",
   "mimetype": "text/x-python",
   "name": "python",
   "nbconvert_exporter": "python",
   "pygments_lexer": "ipython3",
   "version": "3.7.4"
  }
 },
 "nbformat": 4,
 "nbformat_minor": 2
}
